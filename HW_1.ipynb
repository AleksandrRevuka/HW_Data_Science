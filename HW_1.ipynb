{
  "nbformat": 4,
  "nbformat_minor": 0,
  "metadata": {
    "colab": {
      "provenance": [],
      "authorship_tag": "ABX9TyMVQgnHO+ChbVl/sfAdfn8p",
      "include_colab_link": true
    },
    "kernelspec": {
      "name": "python3",
      "display_name": "Python 3"
    },
    "language_info": {
      "name": "python"
    }
  },
  "cells": [
    {
      "cell_type": "markdown",
      "metadata": {
        "id": "view-in-github",
        "colab_type": "text"
      },
      "source": [
        "<a href=\"https://colab.research.google.com/github/AleksandrRevuka/HW_Data_Science/blob/main/HW_1.ipynb\" target=\"_parent\"><img src=\"https://colab.research.google.com/assets/colab-badge.svg\" alt=\"Open In Colab\"/></a>"
      ]
    },
    {
      "cell_type": "markdown",
      "source": [
        "Створіть одновимірний масив (вектор) з першими 10-ма натуральними числами та виведіть його значення."
      ],
      "metadata": {
        "id": "nbPa8Bj0hydM"
      }
    },
    {
      "cell_type": "code",
      "execution_count": 6,
      "metadata": {
        "colab": {
          "base_uri": "https://localhost:8080/"
        },
        "id": "fY1mPMEhfcxS",
        "outputId": "ff31f2d2-3a19-4217-9e7b-52bf99bf3315"
      },
      "outputs": [
        {
          "output_type": "stream",
          "name": "stdout",
          "text": [
            "[ 1  2  3  4  5  6  7  8  9 10]\n"
          ]
        }
      ],
      "source": [
        "import numpy as np\n",
        "\n",
        "a = np.array([1, 2, 3, 4, 5, 6, 7, 8, 9, 10])\n",
        "\n",
        "print(a)\n"
      ]
    },
    {
      "cell_type": "markdown",
      "source": [
        "Створіть двовимірний масив (матрицю) розміром 3x3, заповніть його нулями та виведіть його значення."
      ],
      "metadata": {
        "id": "2KAGDW-ijiyz"
      }
    },
    {
      "cell_type": "code",
      "source": [
        "m = np.zeros((3, 3), dtype=int)\n",
        "\n",
        "print(m)"
      ],
      "metadata": {
        "colab": {
          "base_uri": "https://localhost:8080/"
        },
        "id": "Fn_ENALWhw72",
        "outputId": "4ca57a18-0c2b-4ed4-9687-24ae515a75c0"
      },
      "execution_count": 10,
      "outputs": [
        {
          "output_type": "stream",
          "name": "stdout",
          "text": [
            "[[0 0 0]\n",
            " [0 0 0]\n",
            " [0 0 0]]\n"
          ]
        }
      ]
    },
    {
      "cell_type": "markdown",
      "source": [
        "Створіть масив розміром 5x5, заповніть його випадковими цілими числами в діапазоні від 1 до 10 та виведіть його значення."
      ],
      "metadata": {
        "id": "r6dOqWysudj4"
      }
    },
    {
      "cell_type": "code",
      "source": [
        "m_1 = np.random.randint(1, 11, size=(5, 5))\n",
        "\n",
        "print(m_1)"
      ],
      "metadata": {
        "colab": {
          "base_uri": "https://localhost:8080/"
        },
        "id": "ULl-XkLljtPl",
        "outputId": "6b3cc7d7-3961-4034-be21-13dd2534e0c3"
      },
      "execution_count": 13,
      "outputs": [
        {
          "output_type": "stream",
          "name": "stdout",
          "text": [
            "[[10  9  1  3  6]\n",
            " [ 4  2  9  1  9]\n",
            " [ 7  9 10  7  2]\n",
            " [ 9  5  1  2  5]\n",
            " [ 5  1  1  8  5]]\n"
          ]
        }
      ]
    },
    {
      "cell_type": "markdown",
      "source": [
        "Створіть масив розміром 4x4, заповніть його випадковими дійсними числами в діапазоні від 0 до 1 та виведіть його значення."
      ],
      "metadata": {
        "id": "ViPISyZJwPKy"
      }
    },
    {
      "cell_type": "code",
      "source": [
        "m_2 = np.random.random((4, 4))\n",
        "\n",
        "print(m_2)"
      ],
      "metadata": {
        "colab": {
          "base_uri": "https://localhost:8080/"
        },
        "id": "-lC5THRduqDH",
        "outputId": "72069b5f-9edb-461e-8dc9-c9241009d252"
      },
      "execution_count": 15,
      "outputs": [
        {
          "output_type": "stream",
          "name": "stdout",
          "text": [
            "[[0.94094113 0.28604582 0.01063749 0.17169309]\n",
            " [0.29682591 0.36041051 0.40499739 0.45340652]\n",
            " [0.13207395 0.85520983 0.4749625  0.40626975]\n",
            " [0.52083773 0.50970157 0.20166025 0.11911295]]\n"
          ]
        }
      ]
    },
    {
      "cell_type": "markdown",
      "source": [
        "Створіть два одновимірних масиви розміром 5, заповніть їх випадковими цілими числами в діапазоні від 1 до 10 та виконайте на них поелементні операції додавання, віднімання та множення."
      ],
      "metadata": {
        "id": "zbIcdcrbwdIJ"
      }
    },
    {
      "cell_type": "code",
      "source": [
        "m_3 = np.random.randint(1, 11, size=(1, 5))\n",
        "m_4 = np.random.randint(1, 11, size=(1, 5))\n",
        "\n",
        "print(f\"Addition result: {m_3 + m_4}\")\n",
        "print(f\"Subtraction result: {m_3 - m_4}\")\n",
        "print(f\"Multiplication result: {m_3 * m_4}\")"
      ],
      "metadata": {
        "colab": {
          "base_uri": "https://localhost:8080/"
        },
        "id": "IzWycQ1_wUOb",
        "outputId": "eac84e2e-6262-404e-fe3a-56f2ec43cc54"
      },
      "execution_count": 28,
      "outputs": [
        {
          "output_type": "stream",
          "name": "stdout",
          "text": [
            "Addition result: [[ 5 14 15 10 18]]\n",
            "Subtraction result: [[-1  6 -3  8  2]]\n",
            "Multiplication result: [[ 6 40 54  9 80]]\n"
          ]
        }
      ]
    },
    {
      "cell_type": "markdown",
      "source": [
        "Створіть два вектори розміром 7, заповніть довільними числами та знайдіть їх скалярний добуток."
      ],
      "metadata": {
        "id": "ziojrGJb1eIM"
      }
    },
    {
      "cell_type": "code",
      "source": [
        "v_1 = np.array([1, 2, 3, 4, 5, 6, 7])\n",
        "v_2 = np.array([7, 6, 5, 4, 3, 2, 1])\n",
        "\n",
        "print(f\"Scalar product of vectors: {np.dot(v_1, v_2)}\")"
      ],
      "metadata": {
        "colab": {
          "base_uri": "https://localhost:8080/"
        },
        "id": "HRcYkJS7ybHl",
        "outputId": "b984993f-736e-4413-f68d-5837ce9868e0"
      },
      "execution_count": 31,
      "outputs": [
        {
          "output_type": "stream",
          "name": "stdout",
          "text": [
            "Scalar product of vectors: 84\n"
          ]
        }
      ]
    },
    {
      "cell_type": "markdown",
      "source": [
        "Створіть дві матриці розміром 2x2 та 2x3, заповніть їх випадковими цілими числами в діапазоні від 1 до 10 та перемножте їх між собою."
      ],
      "metadata": {
        "id": "7CnEz9ZX3yh3"
      }
    },
    {
      "cell_type": "code",
      "source": [
        "m_5 = np.random.randint(1, 11, size=(2, 2))\n",
        "m_6 = np.random.randint(1, 11, size=(2, 3))\n",
        "\n",
        "print(m_5,\"\\n\")\n",
        "print(m_6,\"\\n\")\n",
        "\n",
        "print(f\"Multiplication of matrices:\\n{np.dot(m_5, m_6)}\")"
      ],
      "metadata": {
        "colab": {
          "base_uri": "https://localhost:8080/"
        },
        "id": "uTTbxvTe3vQP",
        "outputId": "b79a5991-8588-416e-97fb-dc90f3cdfeda"
      },
      "execution_count": 62,
      "outputs": [
        {
          "output_type": "stream",
          "name": "stdout",
          "text": [
            "[[1 9]\n",
            " [6 6]] \n",
            "\n",
            "[[ 6  4  8]\n",
            " [ 6 10 10]] \n",
            "\n",
            "Multiplication of matrices:\n",
            "[[ 60  94  98]\n",
            " [ 72  84 108]]\n"
          ]
        }
      ]
    },
    {
      "cell_type": "markdown",
      "source": [
        "Створіть матрицю розміром 3x3, заповніть її випадковими цілими числами в діапазоні від 1 до 10 та знайдіть її обернену матрицю."
      ],
      "metadata": {
        "id": "-HIiYNxx5own"
      }
    },
    {
      "cell_type": "code",
      "source": [
        "m_7 = np.random.randint(1, 11, size=(3, 3))\n",
        "\n",
        "print(f\"Inverse matrix:\\n{np.linalg.inv(m_7)}\")"
      ],
      "metadata": {
        "colab": {
          "base_uri": "https://localhost:8080/"
        },
        "id": "ku5X0d4o5rTw",
        "outputId": "957db87a-108b-4819-8ae3-c80b4cd41928"
      },
      "execution_count": 37,
      "outputs": [
        {
          "output_type": "stream",
          "name": "stdout",
          "text": [
            "Inverse matrix:\n",
            "[[ 0.23148148 -0.21296296  0.10185185]\n",
            " [-0.14814815  0.2962963  -0.18518519]\n",
            " [-0.19444444  0.13888889  0.19444444]]\n"
          ]
        }
      ]
    },
    {
      "cell_type": "markdown",
      "source": [
        "Створіть матрицю розміром 4x4, заповніть її випадковими дійсними числами в діапазоні від 0 до 1 та транспонуйте її."
      ],
      "metadata": {
        "id": "_4Bpl73i7El-"
      }
    },
    {
      "cell_type": "code",
      "source": [
        "print(f\"Matrix:\\n{m_2}\\n\")\n",
        "print(f\"Transposition matrix:\\n{m_2.T}\")"
      ],
      "metadata": {
        "colab": {
          "base_uri": "https://localhost:8080/"
        },
        "id": "xRv8tbf97GIL",
        "outputId": "7199e55b-247c-4e99-c7c2-1c60166d5634"
      },
      "execution_count": 44,
      "outputs": [
        {
          "output_type": "stream",
          "name": "stdout",
          "text": [
            "Matrix:\n",
            "[[0.94094113 0.28604582 0.01063749 0.17169309]\n",
            " [0.29682591 0.36041051 0.40499739 0.45340652]\n",
            " [0.13207395 0.85520983 0.4749625  0.40626975]\n",
            " [0.52083773 0.50970157 0.20166025 0.11911295]]\n",
            "\n",
            "Transposition matrix:\n",
            "[[0.94094113 0.29682591 0.13207395 0.52083773]\n",
            " [0.28604582 0.36041051 0.85520983 0.50970157]\n",
            " [0.01063749 0.40499739 0.4749625  0.20166025]\n",
            " [0.17169309 0.45340652 0.40626975 0.11911295]]\n"
          ]
        }
      ]
    },
    {
      "cell_type": "markdown",
      "source": [
        "Створіть матрицю розміром 3x4 та вектор розміром 4, заповніть їх випадковими цілими числами в діапазоні від 1 до 10 та перемножте матрицю на вектор."
      ],
      "metadata": {
        "id": "s2XbH9Iq-poD"
      }
    },
    {
      "cell_type": "code",
      "source": [
        "m_8 = np.array([[0, 2, 3, 1],\n",
        "                [5, 1, 5, 3],\n",
        "                [9, 1, 10, 2]])\n",
        "\n",
        "v_3 = np.array([5, 6, 7, 8])\n",
        "\n",
        "print(f\"The result of multiplying a matrix by a vector:{np.dot(m_8, v_3)}\")"
      ],
      "metadata": {
        "colab": {
          "base_uri": "https://localhost:8080/"
        },
        "id": "jwsQZ_96-rmD",
        "outputId": "9767c879-95d4-45f6-d887-f56eacd3e546"
      },
      "execution_count": 54,
      "outputs": [
        {
          "output_type": "stream",
          "name": "stdout",
          "text": [
            "The result of multiplying a matrix by a vector:[ 41  90 137]\n"
          ]
        }
      ]
    },
    {
      "cell_type": "markdown",
      "source": [
        "Створіть матрицю розміром 2x3 та вектор розміром 3, заповніть їх випадковими дійсними числами в діапазоні від 0 до 1 та перемножте матрицю на вектор."
      ],
      "metadata": {
        "id": "vR2NWmthC6rX"
      }
    },
    {
      "cell_type": "code",
      "source": [
        "m_9 = np.random.random((2, 3))\n",
        "v_4 = np.random.random(3)\n",
        "\n",
        "print(m_9, \"\\n\")\n",
        "print(v_4, \"\\n\")\n",
        "\n",
        "print(f\"The result of multiplying a matrix by a vector:\\n{np.dot(m_9, v_4)}\")"
      ],
      "metadata": {
        "colab": {
          "base_uri": "https://localhost:8080/"
        },
        "id": "f3GU_NimC94P",
        "outputId": "5899927e-6017-40d2-cb1a-be3bdfa28074"
      },
      "execution_count": 57,
      "outputs": [
        {
          "output_type": "stream",
          "name": "stdout",
          "text": [
            "[[0.76267857 0.92161355 0.18706407]\n",
            " [0.18486862 0.70798944 0.70047301]] \n",
            "\n",
            "[0.75197285 0.65600171 0.90888061] \n",
            "\n",
            "The result of multiplying a matrix by a vector:\n",
            "[1.34811255 1.2401048 ]\n"
          ]
        }
      ]
    },
    {
      "cell_type": "markdown",
      "source": [
        "Створіть дві матриці розміром 2x2, заповніть їх випадковими цілими числами в діапазоні від 1 до 10 та виконайте їхнє поелементне множення."
      ],
      "metadata": {
        "id": "-eEJPJgRFC-T"
      }
    },
    {
      "cell_type": "code",
      "source": [
        "m_10 = np.random.randint(1, 11, size=(2, 2))\n",
        "m_11 = np.random.randint(1, 11, size=(2, 2))\n",
        "\n",
        "print(m_10, \"\\n\")\n",
        "print(m_11, \"\\n\")\n",
        "\n",
        "print(f\"Multiplication of matrices:\\n{m_10 * m_11}\")"
      ],
      "metadata": {
        "colab": {
          "base_uri": "https://localhost:8080/"
        },
        "id": "J5R78OEXFE5t",
        "outputId": "1df300df-f46e-42a6-ddd4-44bb0cf32f1e"
      },
      "execution_count": 64,
      "outputs": [
        {
          "output_type": "stream",
          "name": "stdout",
          "text": [
            "[[7 8]\n",
            " [6 4]] \n",
            "\n",
            "[[4 2]\n",
            " [3 3]] \n",
            "\n",
            "Multiplication of matrices:\n",
            "[[28 16]\n",
            " [18 12]]\n"
          ]
        }
      ]
    },
    {
      "cell_type": "markdown",
      "source": [
        "Створіть дві матриці розміром 2x2, заповніть їх випадковими цілими числами в діапазоні від 1 до 10 та знайдіть їх добуток."
      ],
      "metadata": {
        "id": "vbO6mz6eNNj8"
      }
    },
    {
      "cell_type": "code",
      "source": [
        "print(m_10, \"\\n\")\n",
        "print(m_11, \"\\n\")\n",
        "\n",
        "print(f\"Multiplication of matrices:\\n{np.dot(m_10, m_11)}\")"
      ],
      "metadata": {
        "colab": {
          "base_uri": "https://localhost:8080/"
        },
        "id": "MazPEZcXNPGh",
        "outputId": "ef7fbd29-e82b-493d-a9d6-9df770b635d2"
      },
      "execution_count": 66,
      "outputs": [
        {
          "output_type": "stream",
          "name": "stdout",
          "text": [
            "[[7 8]\n",
            " [6 4]] \n",
            "\n",
            "[[4 2]\n",
            " [3 3]] \n",
            "\n",
            "Multiplication of matrices:\n",
            "[[52 38]\n",
            " [36 24]]\n"
          ]
        }
      ]
    },
    {
      "cell_type": "markdown",
      "source": [
        "Створіть матрицю розміром 5x5, заповніть її випадковими цілими числами в діапазоні від 1 до 100 та знайдіть суму елементів матриці."
      ],
      "metadata": {
        "id": "mA3aSrJkNu_P"
      }
    },
    {
      "cell_type": "code",
      "source": [
        "m_12 = np.random.randint(1, 100, size=(5, 5))\n",
        "\n",
        "print(m_12, \"\\n\")\n",
        "\n",
        "print(sum(map(sum, m_12)))\n",
        "print(m_12.sum())"
      ],
      "metadata": {
        "colab": {
          "base_uri": "https://localhost:8080/"
        },
        "id": "RII-f3hmNwkB",
        "outputId": "cc2dffa5-09eb-4f41-e40a-80e7187d5f61"
      },
      "execution_count": 72,
      "outputs": [
        {
          "output_type": "stream",
          "name": "stdout",
          "text": [
            "[[87 45 37 87 84]\n",
            " [87 99  7 16 80]\n",
            " [47  5 64 37 94]\n",
            " [65 79 15  2 91]\n",
            " [69 27 77 46  6]] \n",
            "\n",
            "1353\n",
            "1353\n"
          ]
        }
      ]
    },
    {
      "cell_type": "markdown",
      "source": [
        "Створіть дві матриці розміром 4x4, заповніть їх випадковими цілими числами в діапазоні від 1 до 10 та знайдіть їхню різницю."
      ],
      "metadata": {
        "id": "_H_KlmOoRZ5_"
      }
    },
    {
      "cell_type": "code",
      "source": [
        "m_13 = np.random.randint(1, 11, size=(4, 4))\n",
        "m_14 = np.random.randint(1, 11, size=(4, 4))\n",
        "\n",
        "print(m_13, \"\\n\")\n",
        "print(m_14, \"\\n\")\n",
        "\n",
        "print(f\"Matrix difference:\\n{m_13 - m_14}\")"
      ],
      "metadata": {
        "colab": {
          "base_uri": "https://localhost:8080/"
        },
        "id": "Vz3Ly9lmRbyk",
        "outputId": "ef51f88f-114b-4a98-adf6-4ceecd87b0ec"
      },
      "execution_count": 74,
      "outputs": [
        {
          "output_type": "stream",
          "name": "stdout",
          "text": [
            "[[3 9 6 4]\n",
            " [7 3 4 5]\n",
            " [6 8 4 1]\n",
            " [2 1 2 4]] \n",
            "\n",
            "[[ 4  2  6  9]\n",
            " [ 8  6  5  7]\n",
            " [ 4  8  1 10]\n",
            " [ 1  1  5  5]] \n",
            "\n",
            "Matrix difference:\n",
            "[[-1  7  0 -5]\n",
            " [-1 -3 -1 -2]\n",
            " [ 2  0  3 -9]\n",
            " [ 1  0 -3 -1]]\n"
          ]
        }
      ]
    },
    {
      "cell_type": "markdown",
      "source": [
        "Створіть матрицю розміром 3x3, заповніть її випадковими дійсними числами в діапазоні від 0 до 1 та знайдіть вектор-стовпчик, що містить суму елементів кожного рядка матриці.\n",
        "\n"
      ],
      "metadata": {
        "id": "m3LF9LtGStSo"
      }
    },
    {
      "cell_type": "code",
      "source": [
        "m_15 = np.random.random((3, 3))\n",
        "\n",
        "column_vector = np.zeros((3, 1))\n",
        "\n",
        "for i, el in enumerate(m_15):\n",
        "  column_vector[i, 0] = el.sum()\n",
        "\n",
        "print(m_15, \"\\n\")\n",
        "print(column_vector)"
      ],
      "metadata": {
        "colab": {
          "base_uri": "https://localhost:8080/"
        },
        "id": "Z-2TIz_eSuiv",
        "outputId": "c4e6a608-9b1f-47e7-d194-e94aef96a559"
      },
      "execution_count": 98,
      "outputs": [
        {
          "output_type": "stream",
          "name": "stdout",
          "text": [
            "[[0.37203962 0.54615189 0.55347802]\n",
            " [0.11984348 0.12181341 0.4502654 ]\n",
            " [0.24271323 0.41237722 0.00894841]] \n",
            "\n",
            "[[1.47166953]\n",
            " [0.69192229]\n",
            " [0.66403887]]\n"
          ]
        }
      ]
    },
    {
      "cell_type": "markdown",
      "source": [
        "Створіть матрицю розміром 3x4 з довільними цілими числами і створінь матрицю з квадратами цих чисел."
      ],
      "metadata": {
        "id": "9um0TOPKaiIo"
      }
    },
    {
      "cell_type": "code",
      "source": [
        "print(f\"matrix of numbers:\\n{m_8}\\n\")\n",
        "\n",
        "print(f\"matrix of squares of numbers:\\n{m_8 * m_8}\")"
      ],
      "metadata": {
        "colab": {
          "base_uri": "https://localhost:8080/"
        },
        "id": "7ZGK6ZLRajvR",
        "outputId": "53267f3e-b310-4976-e230-f7dcb55b4721"
      },
      "execution_count": 104,
      "outputs": [
        {
          "output_type": "stream",
          "name": "stdout",
          "text": [
            "matrix of numbers:\n",
            "[[ 0  2  3  1]\n",
            " [ 5  1  5  3]\n",
            " [ 9  1 10  2]]\n",
            "\n",
            "matrix of squares of numbers:\n",
            "[[  0   4   9   1]\n",
            " [ 25   1  25   9]\n",
            " [ 81   1 100   4]]\n"
          ]
        }
      ]
    },
    {
      "cell_type": "markdown",
      "source": [
        "Створіть вектор розміром 4, заповніть його випадковими цілими числами в діапазоні від 1 до 50 та знайдіть вектор з квадратними коренями цих чисел."
      ],
      "metadata": {
        "id": "V6EN9xbfcusz"
      }
    },
    {
      "cell_type": "code",
      "source": [
        "v_5 = np.random.randint(1, 51, size=(4))\n",
        "print(v_5, \"\\n\")\n",
        "\n",
        "print(f\"Square root:\\n{np.sqrt(v_5)}\")"
      ],
      "metadata": {
        "colab": {
          "base_uri": "https://localhost:8080/"
        },
        "id": "RIiaes2McxSK",
        "outputId": "7136e83b-bfe5-4733-f5fb-7576bb7a81e4"
      },
      "execution_count": 117,
      "outputs": [
        {
          "output_type": "stream",
          "name": "stdout",
          "text": [
            "[22 32 10 13] \n",
            "\n",
            "Square root:\n",
            "[4.69041576 5.65685425 3.16227766 3.60555128]\n"
          ]
        }
      ]
    }
  ]
}