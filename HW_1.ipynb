{
  "cells": [
    {
      "cell_type": "markdown",
      "metadata": {
        "colab_type": "text",
        "id": "view-in-github"
      },
      "source": [
        "<a href=\"https://colab.research.google.com/github/AleksandrRevuka/HW_Data_Science/blob/main/HW_1.ipynb\" target=\"_parent\"><img src=\"https://colab.research.google.com/assets/colab-badge.svg\" alt=\"Open In Colab\"/></a>"
      ]
    },
    {
      "cell_type": "markdown",
      "metadata": {
        "id": "nbPa8Bj0hydM"
      },
      "source": [
        "Створіть одновимірний масив (вектор) з першими 10-ма натуральними числами та виведіть його значення."
      ]
    },
    {
      "cell_type": "code",
      "execution_count": 1,
      "metadata": {
        "colab": {
          "base_uri": "https://localhost:8080/"
        },
        "id": "fY1mPMEhfcxS",
        "outputId": "ff31f2d2-3a19-4217-9e7b-52bf99bf3315"
      },
      "outputs": [
        {
          "name": "stdout",
          "output_type": "stream",
          "text": [
            "[ 1  2  3  4  5  6  7  8  9 10]\n"
          ]
        }
      ],
      "source": [
        "import numpy as np\n",
        "\n",
        "a = np.array([1, 2, 3, 4, 5, 6, 7, 8, 9, 10])\n",
        "\n",
        "print(a)\n"
      ]
    },
    {
      "cell_type": "markdown",
      "metadata": {
        "id": "2KAGDW-ijiyz"
      },
      "source": [
        "Створіть двовимірний масив (матрицю) розміром 3x3, заповніть його нулями та виведіть його значення."
      ]
    },
    {
      "cell_type": "code",
      "execution_count": 2,
      "metadata": {
        "colab": {
          "base_uri": "https://localhost:8080/"
        },
        "id": "Fn_ENALWhw72",
        "outputId": "4ca57a18-0c2b-4ed4-9687-24ae515a75c0"
      },
      "outputs": [
        {
          "name": "stdout",
          "output_type": "stream",
          "text": [
            "[[0 0 0]\n",
            " [0 0 0]\n",
            " [0 0 0]]\n"
          ]
        }
      ],
      "source": [
        "m = np.zeros((3, 3), dtype=int)\n",
        "\n",
        "print(m)"
      ]
    },
    {
      "cell_type": "markdown",
      "metadata": {
        "id": "r6dOqWysudj4"
      },
      "source": [
        "Створіть масив розміром 5x5, заповніть його випадковими цілими числами в діапазоні від 1 до 10 та виведіть його значення."
      ]
    },
    {
      "cell_type": "code",
      "execution_count": 3,
      "metadata": {
        "colab": {
          "base_uri": "https://localhost:8080/"
        },
        "id": "ULl-XkLljtPl",
        "outputId": "6b3cc7d7-3961-4034-be21-13dd2534e0c3"
      },
      "outputs": [
        {
          "name": "stdout",
          "output_type": "stream",
          "text": [
            "[[ 8  1  6  3  8]\n",
            " [ 9  2  6  7  8]\n",
            " [ 8 10  8  6  9]\n",
            " [ 6  6  3 10  7]\n",
            " [ 2  1 10  4 10]]\n"
          ]
        }
      ],
      "source": [
        "m_1 = np.random.randint(1, 11, size=(5, 5))\n",
        "\n",
        "print(m_1)"
      ]
    },
    {
      "cell_type": "markdown",
      "metadata": {
        "id": "ViPISyZJwPKy"
      },
      "source": [
        "Створіть масив розміром 4x4, заповніть його випадковими дійсними числами в діапазоні від 0 до 1 та виведіть його значення."
      ]
    },
    {
      "cell_type": "code",
      "execution_count": 4,
      "metadata": {
        "colab": {
          "base_uri": "https://localhost:8080/"
        },
        "id": "-lC5THRduqDH",
        "outputId": "72069b5f-9edb-461e-8dc9-c9241009d252"
      },
      "outputs": [
        {
          "name": "stdout",
          "output_type": "stream",
          "text": [
            "[[0.50894793 0.88726405 0.15734538 0.80338865]\n",
            " [0.89370761 0.30589616 0.65134316 0.30095721]\n",
            " [0.83985959 0.53941823 0.31056453 0.78239061]\n",
            " [0.57283423 0.44321811 0.00527266 0.47466659]]\n"
          ]
        }
      ],
      "source": [
        "m_2 = np.random.random((4, 4))\n",
        "\n",
        "print(m_2)"
      ]
    },
    {
      "cell_type": "markdown",
      "metadata": {
        "id": "zbIcdcrbwdIJ"
      },
      "source": [
        "Створіть два одновимірних масиви розміром 5, заповніть їх випадковими цілими числами в діапазоні від 1 до 10 та виконайте на них поелементні операції додавання, віднімання та множення."
      ]
    },
    {
      "cell_type": "code",
      "execution_count": 5,
      "metadata": {
        "colab": {
          "base_uri": "https://localhost:8080/"
        },
        "id": "IzWycQ1_wUOb",
        "outputId": "eac84e2e-6262-404e-fe3a-56f2ec43cc54"
      },
      "outputs": [
        {
          "name": "stdout",
          "output_type": "stream",
          "text": [
            "Addition result: [[13 12  7 15 13]]\n",
            "Subtraction result: [[-3  8 -1  5  7]]\n",
            "Multiplication result: [[40 20 12 50 30]]\n"
          ]
        }
      ],
      "source": [
        "m_3 = np.random.randint(1, 11, size=(1, 5))\n",
        "m_4 = np.random.randint(1, 11, size=(1, 5))\n",
        "\n",
        "print(f\"Addition result: {m_3 + m_4}\")\n",
        "print(f\"Subtraction result: {m_3 - m_4}\")\n",
        "print(f\"Multiplication result: {m_3 * m_4}\")"
      ]
    },
    {
      "cell_type": "markdown",
      "metadata": {
        "id": "ziojrGJb1eIM"
      },
      "source": [
        "Створіть два вектори розміром 7, заповніть довільними числами та знайдіть їх скалярний добуток."
      ]
    },
    {
      "cell_type": "code",
      "execution_count": 6,
      "metadata": {
        "colab": {
          "base_uri": "https://localhost:8080/"
        },
        "id": "HRcYkJS7ybHl",
        "outputId": "b984993f-736e-4413-f68d-5837ce9868e0"
      },
      "outputs": [
        {
          "name": "stdout",
          "output_type": "stream",
          "text": [
            "Scalar product of vectors: 84\n"
          ]
        }
      ],
      "source": [
        "v_1 = np.array([1, 2, 3, 4, 5, 6, 7])\n",
        "v_2 = np.array([7, 6, 5, 4, 3, 2, 1])\n",
        "\n",
        "print(f\"Scalar product of vectors: {np.dot(v_1, v_2)}\")"
      ]
    },
    {
      "cell_type": "markdown",
      "metadata": {
        "id": "7CnEz9ZX3yh3"
      },
      "source": [
        "Створіть дві матриці розміром 2x2 та 2x3, заповніть їх випадковими цілими числами в діапазоні від 1 до 10 та перемножте їх між собою."
      ]
    },
    {
      "cell_type": "code",
      "execution_count": 7,
      "metadata": {
        "colab": {
          "base_uri": "https://localhost:8080/"
        },
        "id": "uTTbxvTe3vQP",
        "outputId": "b79a5991-8588-416e-97fb-dc90f3cdfeda"
      },
      "outputs": [
        {
          "name": "stdout",
          "output_type": "stream",
          "text": [
            "[[4 3]\n",
            " [1 4]] \n",
            "\n",
            "[[ 2  6  6]\n",
            " [10 10  8]] \n",
            "\n",
            "Multiplication of matrices:\n",
            "[[38 54 48]\n",
            " [42 46 38]]\n"
          ]
        }
      ],
      "source": [
        "m_5 = np.random.randint(1, 11, size=(2, 2))\n",
        "m_6 = np.random.randint(1, 11, size=(2, 3))\n",
        "\n",
        "print(m_5,\"\\n\")\n",
        "print(m_6,\"\\n\")\n",
        "\n",
        "print(f\"Multiplication of matrices:\\n{np.dot(m_5, m_6)}\")"
      ]
    },
    {
      "cell_type": "markdown",
      "metadata": {
        "id": "-HIiYNxx5own"
      },
      "source": [
        "Створіть матрицю розміром 3x3, заповніть її випадковими цілими числами в діапазоні від 1 до 10 та знайдіть її обернену матрицю."
      ]
    },
    {
      "cell_type": "code",
      "execution_count": 8,
      "metadata": {
        "colab": {
          "base_uri": "https://localhost:8080/"
        },
        "id": "ku5X0d4o5rTw",
        "outputId": "957db87a-108b-4819-8ae3-c80b4cd41928"
      },
      "outputs": [
        {
          "name": "stdout",
          "output_type": "stream",
          "text": [
            "Inverse matrix:\n",
            "[[-0.07142857  0.03061224  0.14285714]\n",
            " [-0.28571429  0.55102041 -0.42857143]\n",
            " [ 0.35714286 -0.43877551  0.28571429]]\n"
          ]
        }
      ],
      "source": [
        "m_7 = np.random.randint(1, 11, size=(3, 3))\n",
        "\n",
        "print(f\"Inverse matrix:\\n{np.linalg.inv(m_7)}\")"
      ]
    },
    {
      "cell_type": "markdown",
      "metadata": {
        "id": "_4Bpl73i7El-"
      },
      "source": [
        "Створіть матрицю розміром 4x4, заповніть її випадковими дійсними числами в діапазоні від 0 до 1 та транспонуйте її."
      ]
    },
    {
      "cell_type": "code",
      "execution_count": 9,
      "metadata": {
        "colab": {
          "base_uri": "https://localhost:8080/"
        },
        "id": "xRv8tbf97GIL",
        "outputId": "7199e55b-247c-4e99-c7c2-1c60166d5634"
      },
      "outputs": [
        {
          "name": "stdout",
          "output_type": "stream",
          "text": [
            "Matrix:\n",
            "[[0.50894793 0.88726405 0.15734538 0.80338865]\n",
            " [0.89370761 0.30589616 0.65134316 0.30095721]\n",
            " [0.83985959 0.53941823 0.31056453 0.78239061]\n",
            " [0.57283423 0.44321811 0.00527266 0.47466659]]\n",
            "\n",
            "Transposition matrix:\n",
            "[[0.50894793 0.89370761 0.83985959 0.57283423]\n",
            " [0.88726405 0.30589616 0.53941823 0.44321811]\n",
            " [0.15734538 0.65134316 0.31056453 0.00527266]\n",
            " [0.80338865 0.30095721 0.78239061 0.47466659]]\n"
          ]
        }
      ],
      "source": [
        "print(f\"Matrix:\\n{m_2}\\n\")\n",
        "print(f\"Transposition matrix:\\n{m_2.T}\")"
      ]
    },
    {
      "cell_type": "markdown",
      "metadata": {
        "id": "s2XbH9Iq-poD"
      },
      "source": [
        "Створіть матрицю розміром 3x4 та вектор розміром 4, заповніть їх випадковими цілими числами в діапазоні від 1 до 10 та перемножте матрицю на вектор."
      ]
    },
    {
      "cell_type": "code",
      "execution_count": 10,
      "metadata": {
        "colab": {
          "base_uri": "https://localhost:8080/"
        },
        "id": "jwsQZ_96-rmD",
        "outputId": "9767c879-95d4-45f6-d887-f56eacd3e546"
      },
      "outputs": [
        {
          "name": "stdout",
          "output_type": "stream",
          "text": [
            "The result of multiplying a matrix by a vector:[ 41  90 137]\n"
          ]
        }
      ],
      "source": [
        "m_8 = np.array([[0, 2, 3, 1],\n",
        "                [5, 1, 5, 3],\n",
        "                [9, 1, 10, 2]])\n",
        "\n",
        "v_3 = np.array([5, 6, 7, 8])\n",
        "\n",
        "print(f\"The result of multiplying a matrix by a vector:{np.dot(m_8, v_3)}\")"
      ]
    },
    {
      "cell_type": "markdown",
      "metadata": {
        "id": "vR2NWmthC6rX"
      },
      "source": [
        "Створіть матрицю розміром 2x3 та вектор розміром 3, заповніть їх випадковими дійсними числами в діапазоні від 0 до 1 та перемножте матрицю на вектор."
      ]
    },
    {
      "cell_type": "code",
      "execution_count": 11,
      "metadata": {
        "colab": {
          "base_uri": "https://localhost:8080/"
        },
        "id": "f3GU_NimC94P",
        "outputId": "5899927e-6017-40d2-cb1a-be3bdfa28074"
      },
      "outputs": [
        {
          "name": "stdout",
          "output_type": "stream",
          "text": [
            "[[0.51498806 0.40098738 0.66905856]\n",
            " [0.67157018 0.92789138 0.5831425 ]] \n",
            "\n",
            "[0.97575825 0.64230945 0.03076827] \n",
            "\n",
            "The result of multiplying a matrix by a vector:\n",
            "[0.78064761 1.26922583]\n"
          ]
        }
      ],
      "source": [
        "m_9 = np.random.random((2, 3))\n",
        "v_4 = np.random.random(3)\n",
        "\n",
        "print(m_9, \"\\n\")\n",
        "print(v_4, \"\\n\")\n",
        "\n",
        "print(f\"The result of multiplying a matrix by a vector:\\n{np.dot(m_9, v_4)}\")"
      ]
    },
    {
      "cell_type": "markdown",
      "metadata": {
        "id": "-eEJPJgRFC-T"
      },
      "source": [
        "Створіть дві матриці розміром 2x2, заповніть їх випадковими цілими числами в діапазоні від 1 до 10 та виконайте їхнє поелементне множення."
      ]
    },
    {
      "cell_type": "code",
      "execution_count": 12,
      "metadata": {
        "colab": {
          "base_uri": "https://localhost:8080/"
        },
        "id": "J5R78OEXFE5t",
        "outputId": "1df300df-f46e-42a6-ddd4-44bb0cf32f1e"
      },
      "outputs": [
        {
          "name": "stdout",
          "output_type": "stream",
          "text": [
            "[[ 1  5]\n",
            " [ 1 10]] \n",
            "\n",
            "[[10  4]\n",
            " [ 3  7]] \n",
            "\n",
            "Multiplication of matrices:\n",
            "[[10 20]\n",
            " [ 3 70]]\n"
          ]
        }
      ],
      "source": [
        "m_10 = np.random.randint(1, 11, size=(2, 2))\n",
        "m_11 = np.random.randint(1, 11, size=(2, 2))\n",
        "\n",
        "print(m_10, \"\\n\")\n",
        "print(m_11, \"\\n\")\n",
        "\n",
        "print(f\"Multiplication of matrices:\\n{m_10 * m_11}\")"
      ]
    },
    {
      "cell_type": "markdown",
      "metadata": {
        "id": "vbO6mz6eNNj8"
      },
      "source": [
        "Створіть дві матриці розміром 2x2, заповніть їх випадковими цілими числами в діапазоні від 1 до 10 та знайдіть їх добуток."
      ]
    },
    {
      "cell_type": "code",
      "execution_count": 13,
      "metadata": {
        "colab": {
          "base_uri": "https://localhost:8080/"
        },
        "id": "MazPEZcXNPGh",
        "outputId": "ef7fbd29-e82b-493d-a9d6-9df770b635d2"
      },
      "outputs": [
        {
          "name": "stdout",
          "output_type": "stream",
          "text": [
            "[[ 1  5]\n",
            " [ 1 10]] \n",
            "\n",
            "[[10  4]\n",
            " [ 3  7]] \n",
            "\n",
            "Multiplication of matrices:\n",
            "[[25 39]\n",
            " [40 74]]\n"
          ]
        }
      ],
      "source": [
        "print(m_10, \"\\n\")\n",
        "print(m_11, \"\\n\")\n",
        "\n",
        "print(f\"Multiplication of matrices:\\n{np.dot(m_10, m_11)}\")"
      ]
    },
    {
      "cell_type": "markdown",
      "metadata": {
        "id": "mA3aSrJkNu_P"
      },
      "source": [
        "Створіть матрицю розміром 5x5, заповніть її випадковими цілими числами в діапазоні від 1 до 100 та знайдіть суму елементів матриці."
      ]
    },
    {
      "cell_type": "code",
      "execution_count": 14,
      "metadata": {
        "colab": {
          "base_uri": "https://localhost:8080/"
        },
        "id": "RII-f3hmNwkB",
        "outputId": "cc2dffa5-09eb-4f41-e40a-80e7187d5f61"
      },
      "outputs": [
        {
          "name": "stdout",
          "output_type": "stream",
          "text": [
            "[[16 76 60 64 61]\n",
            " [42 51  5 68 62]\n",
            " [88 61 94 33 16]\n",
            " [52 49 92 71 78]\n",
            " [ 6 49 19  3 35]] \n",
            "\n",
            "1251\n",
            "1251\n"
          ]
        }
      ],
      "source": [
        "m_12 = np.random.randint(1, 100, size=(5, 5))\n",
        "\n",
        "print(m_12, \"\\n\")\n",
        "\n",
        "print(sum(map(sum, m_12)))\n",
        "print(m_12.sum())"
      ]
    },
    {
      "cell_type": "markdown",
      "metadata": {
        "id": "_H_KlmOoRZ5_"
      },
      "source": [
        "Створіть дві матриці розміром 4x4, заповніть їх випадковими цілими числами в діапазоні від 1 до 10 та знайдіть їхню різницю."
      ]
    },
    {
      "cell_type": "code",
      "execution_count": 15,
      "metadata": {
        "colab": {
          "base_uri": "https://localhost:8080/"
        },
        "id": "Vz3Ly9lmRbyk",
        "outputId": "ef51f88f-114b-4a98-adf6-4ceecd87b0ec"
      },
      "outputs": [
        {
          "name": "stdout",
          "output_type": "stream",
          "text": [
            "[[ 9  8  5  2]\n",
            " [10  4  6  9]\n",
            " [ 5  2  2  1]\n",
            " [ 2  5  6  4]] \n",
            "\n",
            "[[ 6  9  6  4]\n",
            " [ 9  5  1  9]\n",
            " [ 7  8  6 10]\n",
            " [ 2  5  1  8]] \n",
            "\n",
            "Matrix difference:\n",
            "[[ 3 -1 -1 -2]\n",
            " [ 1 -1  5  0]\n",
            " [-2 -6 -4 -9]\n",
            " [ 0  0  5 -4]]\n"
          ]
        }
      ],
      "source": [
        "m_13 = np.random.randint(1, 11, size=(4, 4))\n",
        "m_14 = np.random.randint(1, 11, size=(4, 4))\n",
        "\n",
        "print(m_13, \"\\n\")\n",
        "print(m_14, \"\\n\")\n",
        "\n",
        "print(f\"Matrix difference:\\n{m_13 - m_14}\")"
      ]
    },
    {
      "cell_type": "markdown",
      "metadata": {
        "id": "m3LF9LtGStSo"
      },
      "source": [
        "Створіть матрицю розміром 3x3, заповніть її випадковими дійсними числами в діапазоні від 0 до 1 та знайдіть вектор-стовпчик, що містить суму елементів кожного рядка матриці.\n",
        "\n"
      ]
    },
    {
      "cell_type": "code",
      "execution_count": 16,
      "metadata": {
        "colab": {
          "base_uri": "https://localhost:8080/"
        },
        "id": "Z-2TIz_eSuiv",
        "outputId": "c4e6a608-9b1f-47e7-d194-e94aef96a559"
      },
      "outputs": [
        {
          "name": "stdout",
          "output_type": "stream",
          "text": [
            "[[0.54138693 0.99879912 0.94869155]\n",
            " [0.3121838  0.1236744  0.34623323]\n",
            " [0.41320589 0.77178395 0.21000297]] \n",
            "\n",
            "[[2.48887759]\n",
            " [0.78209143]\n",
            " [1.39499281]]\n"
          ]
        }
      ],
      "source": [
        "m_15 = np.random.random((3, 3))\n",
        "\n",
        "column_vector = np.zeros((3, 1))\n",
        "\n",
        "for i, el in enumerate(m_15):\n",
        "  column_vector[i, 0] = el.sum()\n",
        "\n",
        "print(m_15, \"\\n\")\n",
        "print(column_vector)"
      ]
    },
    {
      "cell_type": "markdown",
      "metadata": {
        "id": "9um0TOPKaiIo"
      },
      "source": [
        "Створіть матрицю розміром 3x4 з довільними цілими числами і створінь матрицю з квадратами цих чисел."
      ]
    },
    {
      "cell_type": "code",
      "execution_count": 17,
      "metadata": {
        "colab": {
          "base_uri": "https://localhost:8080/"
        },
        "id": "7ZGK6ZLRajvR",
        "outputId": "53267f3e-b310-4976-e230-f7dcb55b4721"
      },
      "outputs": [
        {
          "name": "stdout",
          "output_type": "stream",
          "text": [
            "matrix of numbers:\n",
            "[[ 0  2  3  1]\n",
            " [ 5  1  5  3]\n",
            " [ 9  1 10  2]]\n",
            "\n",
            "matrix of squares of numbers:\n",
            "[[  0   4   9   1]\n",
            " [ 25   1  25   9]\n",
            " [ 81   1 100   4]]\n"
          ]
        }
      ],
      "source": [
        "print(f\"matrix of numbers:\\n{m_8}\\n\")\n",
        "\n",
        "print(f\"matrix of squares of numbers:\\n{m_8 * m_8}\")"
      ]
    },
    {
      "cell_type": "markdown",
      "metadata": {
        "id": "V6EN9xbfcusz"
      },
      "source": [
        "Створіть вектор розміром 4, заповніть його випадковими цілими числами в діапазоні від 1 до 50 та знайдіть вектор з квадратними коренями цих чисел."
      ]
    },
    {
      "cell_type": "code",
      "execution_count": 18,
      "metadata": {
        "colab": {
          "base_uri": "https://localhost:8080/"
        },
        "id": "RIiaes2McxSK",
        "outputId": "7136e83b-bfe5-4733-f5fb-7576bb7a81e4"
      },
      "outputs": [
        {
          "name": "stdout",
          "output_type": "stream",
          "text": [
            "[10 21 41 40] \n",
            "\n",
            "Square root:\n",
            "[3.16227766 4.58257569 6.40312424 6.32455532]\n"
          ]
        }
      ],
      "source": [
        "v_5 = np.random.randint(1, 51, size=(4))\n",
        "print(v_5, \"\\n\")\n",
        "\n",
        "print(f\"Square root:\\n{np.sqrt(v_5)}\")"
      ]
    }
  ],
  "metadata": {
    "colab": {
      "authorship_tag": "ABX9TyMVQgnHO+ChbVl/sfAdfn8p",
      "include_colab_link": true,
      "provenance": []
    },
    "kernelspec": {
      "display_name": "Python 3",
      "name": "python3"
    },
    "language_info": {
      "codemirror_mode": {
        "name": "ipython",
        "version": 3
      },
      "file_extension": ".py",
      "mimetype": "text/x-python",
      "name": "python",
      "nbconvert_exporter": "python",
      "pygments_lexer": "ipython3",
      "version": "3.11.1"
    }
  },
  "nbformat": 4,
  "nbformat_minor": 0
}
