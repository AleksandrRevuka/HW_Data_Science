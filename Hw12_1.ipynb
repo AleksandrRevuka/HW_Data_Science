{
 "cells": [
  {
   "cell_type": "code",
   "execution_count": 744,
   "metadata": {},
   "outputs": [],
   "source": [
    "import numpy as np\n",
    "import matplotlib.pyplot as plt\n",
    "import tensorflow as tf\n",
    "import spacy\n",
    "import en_core_web_sm\n",
    "import nltk\n",
    "\n",
    "from nltk.corpus import stopwords, wordnet\n",
    "from nltk.tokenize import word_tokenize, sent_tokenize\n",
    "from nltk.stem import PorterStemmer, WordNetLemmatizer\n",
    "from nltk.probability import FreqDist\n",
    "\n",
    "from heapq import nlargest"
   ]
  },
  {
   "cell_type": "code",
   "execution_count": 745,
   "metadata": {},
   "outputs": [],
   "source": [
    "data_text = \"The Orbiter Discovery, OV-103, is considered eligible for listing in the National Register of Historic Places (NRHP) in the context of the U.S. Space Shuttle Program (1969-2011) under Criterion A in the areas of Space Exploration and Transportation and under Criterion C in the area of Engineering. Because it has achieved significance within the past fifty years, Criteria Consideration G applies. Under Criterion A, Discovery is significant as the oldest of the three extant orbiter vehicles constructed for the Space Shuttle Program (SSP), the longest running American space program to date; she was the third of five orbiters built by NASA. Unlike the Mercury, Gemini, and Apollo programs, the SSP’s emphasis was on cost effectiveness and reusability, and eventually the construction of a space station. Including her maiden voyage (launched August 30, 1984), Discovery flew to space thirty-nine times, more than any of the other four orbiters; she was also the first orbiter to fly twenty missions. She had the honor of being chosen as the Return to Flight vehicle after both the Challenger and Columbia accidents. Discovery was the first shuttle to fly with the redesigned SRBs, a result of the Challenger accident, and the first shuttle to fly with the Phase II and Block I SSME. Discovery also carried the Hubble Space Telescope to orbit and performed two of the five servicing missions to the observatory. She flew the first and last dedicated Department of Defense (DoD) missions, as well as the first unclassified defense-related mission. In addition, Discovery was vital to the construction of the International Space Station (ISS); she flew thirteen of the thirty-seven total missions flown to the station by a U.S. Space Shuttle. She was the first orbiter to dock to the ISS, and the first to perform an exchange of a resident crew. Under Criterion C, Discovery is significant as a feat of engineering. According to Wayne Hale, a flight director from Johnson Space Center, the Space Shuttle orbiter represents a “huge technological leap from expendable rockets and capsules to a reusable, winged, hypersonic, cargo-carrying spacecraft”. Although her base structure followed a conventional aircraft design, she used advanced materials that both minimized her weight for cargo-carrying purposes and featured low thermal expansion ratios, which provided a stable base for her Thermal Protection System (TPS) materials. The Space Shuttle orbiter also featured the first reusable TPS; all previous spaceflight vehicles had a single-use, ablative heat shield. Other notable engineering achievements of the orbiter included the first reusable orbital propulsion system, and the first two-fault-tolerant Integrated Avionics System. As Hale stated, the Space Shuttle remains “the largest, fastest, winged hypersonic aircraft in history,” having regularly flown at twenty-five times the speed of sound.\""
   ]
  },
  {
   "cell_type": "code",
   "execution_count": 746,
   "metadata": {},
   "outputs": [],
   "source": [
    "def is_english_word(word):\n",
    "    synset = wordnet.synsets(word)\n",
    "    if synset:\n",
    "        return True\n",
    "    else:\n",
    "        return False"
   ]
  },
  {
   "cell_type": "code",
   "execution_count": 747,
   "metadata": {},
   "outputs": [],
   "source": [
    "nlp = en_core_web_sm.load()"
   ]
  },
  {
   "cell_type": "code",
   "execution_count": 748,
   "metadata": {},
   "outputs": [],
   "source": [
    "data_text = data_text.lower()"
   ]
  },
  {
   "cell_type": "code",
   "execution_count": 749,
   "metadata": {},
   "outputs": [],
   "source": [
    "doc = nlp(data_text)\n",
    "sentences = [sent.text for sent in doc.sents]\n",
    "words = [token.text for token in doc]\n",
    "# words = word_tokenize(data_text)\n",
    "# sentences = sent_tokenize(data_text)"
   ]
  },
  {
   "cell_type": "code",
   "execution_count": 750,
   "metadata": {},
   "outputs": [],
   "source": [
    "words = [word for word in words if word.isalpha()]\n",
    "words = [word for word in words if len(word) > 1]\n",
    "filtered_words = [word for word in words if is_english_word(word)]"
   ]
  },
  {
   "cell_type": "code",
   "execution_count": 751,
   "metadata": {},
   "outputs": [],
   "source": [
    "stop_words = stopwords.words('english') + ['iss', 'ii', 'dod']\n",
    "filtered_words = [word for word in words if word not in stop_words]"
   ]
  },
  {
   "cell_type": "code",
   "execution_count": 752,
   "metadata": {},
   "outputs": [],
   "source": [
    "lemmatizer = WordNetLemmatizer()\n",
    "lemmatized_words = [lemmatizer.lemmatize(word) for word in filtered_words]"
   ]
  },
  {
   "cell_type": "code",
   "execution_count": 753,
   "metadata": {},
   "outputs": [],
   "source": [
    "word_frequencies = FreqDist(lemmatized_words)"
   ]
  },
  {
   "cell_type": "code",
   "execution_count": 754,
   "metadata": {},
   "outputs": [
    {
     "name": "stdout",
     "output_type": "stream",
     "text": [
      "\n",
      "Lemmatized Words:\n",
      "['orbiter', 'discovery', 'considered', 'eligible', 'listing', 'national', 'register', 'historic', 'place', 'nrhp', 'context', 'space', 'shuttle', 'program', 'criterion', 'area', 'space', 'exploration', 'transportation', 'criterion', 'area', 'engineering', 'achieved', 'significance', 'within', 'past', 'fifty', 'year', 'criterion', 'consideration', 'applies', 'criterion', 'discovery', 'significant', 'oldest', 'three', 'extant', 'orbiter', 'vehicle', 'constructed', 'space', 'shuttle', 'program', 'ssp', 'longest', 'running', 'american', 'space', 'program', 'date', 'third', 'five', 'orbiter', 'built', 'nasa', 'unlike', 'mercury', 'gemini', 'apollo', 'program', 'ssp', 'emphasis', 'cost', 'effectiveness', 'reusability', 'eventually', 'construction', 'space', 'station', 'including', 'maiden', 'voyage', 'launched', 'august', 'discovery', 'flew', 'space', 'thirty', 'nine', 'time', 'four', 'orbiter', 'also', 'first', 'orbiter', 'fly', 'twenty', 'mission', 'honor', 'chosen', 'return', 'flight', 'vehicle', 'challenger', 'columbia', 'accident', 'discovery', 'first', 'shuttle', 'fly', 'redesigned', 'srbs', 'result', 'challenger', 'accident', 'first', 'shuttle', 'fly', 'phase', 'block', 'ssme', 'discovery', 'also', 'carried', 'hubble', 'space', 'telescope', 'orbit', 'performed', 'two', 'five', 'servicing', 'mission', 'observatory', 'flew', 'first', 'last', 'dedicated', 'department', 'defense', 'mission', 'well', 'first', 'unclassified', 'defense', 'related', 'mission', 'addition', 'discovery', 'vital', 'construction', 'international', 'space', 'station', 'flew', 'thirteen', 'thirty', 'seven', 'total', 'mission', 'flown', 'station', 'space', 'shuttle', 'first', 'orbiter', 'dock', 'first', 'perform', 'exchange', 'resident', 'crew', 'criterion', 'discovery', 'significant', 'feat', 'engineering', 'according', 'wayne', 'hale', 'flight', 'director', 'johnson', 'space', 'center', 'space', 'shuttle', 'orbiter', 'represents', 'huge', 'technological', 'leap', 'expendable', 'rocket', 'capsule', 'reusable', 'winged', 'hypersonic', 'cargo', 'carrying', 'spacecraft', 'although', 'base', 'structure', 'followed', 'conventional', 'aircraft', 'design', 'used', 'advanced', 'material', 'minimized', 'weight', 'cargo', 'carrying', 'purpose', 'featured', 'low', 'thermal', 'expansion', 'ratio', 'provided', 'stable', 'base', 'thermal', 'protection', 'system', 'tps', 'material', 'space', 'shuttle', 'orbiter', 'also', 'featured', 'first', 'reusable', 'tps', 'previous', 'spaceflight', 'vehicle', 'single', 'use', 'ablative', 'heat', 'shield', 'notable', 'engineering', 'achievement', 'orbiter', 'included', 'first', 'reusable', 'orbital', 'propulsion', 'system', 'first', 'two', 'fault', 'tolerant', 'integrated', 'avionics', 'system', 'hale', 'stated', 'space', 'shuttle', 'remains', 'largest', 'fastest', 'winged', 'hypersonic', 'aircraft', 'history', 'regularly', 'flown', 'twenty', 'five', 'time', 'speed', 'sound']\n",
      "\n",
      "Most_common Words:\n",
      "[('space', 13), ('first', 10), ('orbiter', 9), ('shuttle', 8), ('discovery', 7), ('criterion', 5), ('mission', 5), ('program', 4)]\n",
      "\n",
      "Summ Words:\n",
      "270\n"
     ]
    }
   ],
   "source": [
    "print(\"\\nLemmatized Words:\")\n",
    "print(lemmatized_words)\n",
    "\n",
    "print(\"\\nMost_common Words:\")\n",
    "print(word_frequencies.most_common(8))\n",
    "\n",
    "print(\"\\nSumm Words:\")\n",
    "print(len(lemmatized_words))"
   ]
  },
  {
   "cell_type": "code",
   "execution_count": 755,
   "metadata": {},
   "outputs": [
    {
     "name": "stdout",
     "output_type": "stream",
     "text": [
      "64 : the orbiter discovery, ov-103, is considered eligible for listing in the national register of historic places (nrhp) in the context of the u.s. space shuttle program (1969-2011) under criterion a in the areas of space exploration and transportation and under criterion c in the area of engineering.\n",
      "10 : because it has achieved significance within the past fifty years, criteria consideration g applies.\n",
      "68 : under criterion a, discovery is significant as the oldest of the three extant orbiter vehicles constructed for the space shuttle program (ssp), the longest running american space program to date; she was the third of five orbiters built by nasa.\n",
      "33 : unlike the mercury, gemini, and apollo programs, the ssp’s emphasis was on cost effectiveness and reusability, and eventually the construction of a space station.\n",
      "67 : including her maiden voyage (launched august 30, 1984), discovery flew to space thirty-nine times, more than any of the other four orbiters; she was also the first orbiter to fly twenty missions.\n",
      "13 : she had the honor of being chosen as the return to flight vehicle after both the challenger and columbia accidents.\n",
      "39 : discovery was the first shuttle to fly with the redesigned srbs, a result of the challenger accident, and the first shuttle to fly with the phase ii and block i ssme.\n",
      "41 : discovery also carried the hubble space telescope to orbit and performed two of the five servicing missions to the observatory.\n",
      "26 : she flew the first and last dedicated department of defense (dod) missions, as well as the first unclassified defense-related mission.\n",
      "53 : in addition, discovery was vital to the construction of the international space station (iss); she flew thirteen of the thirty-seven total missions flown to the station by a u.s. space shuttle.\n",
      "25 : she was the first orbiter to dock to the iss, and the first to perform an exchange of a resident crew.\n",
      "18 : under criterion c, discovery is significant as a feat of engineering.\n",
      "59 : according to wayne hale, a flight director from johnson space center, the space shuttle orbiter represents a “huge technological leap from expendable rockets and capsules to a reusable, winged, hypersonic, cargo-carrying spacecraft”.\n",
      "37 : although her base structure followed a conventional aircraft design, she used advanced materials that both minimized her weight for cargo-carrying purposes and featured low thermal expansion ratios, which provided a stable base for her thermal protection system (tps) materials.\n",
      "64 : the space shuttle orbiter also featured the first reusable tps; all previous spaceflight vehicles had a single-use, ablative heat shield.\n",
      "40 : other notable engineering achievements of the orbiter included the first reusable orbital propulsion system, and the first two-fault-tolerant integrated avionics system.\n",
      "47 : as hale stated, the space shuttle remains “the largest, fastest, winged hypersonic aircraft in history,” having regularly flown at twenty-five times the speed of sound.\n"
     ]
    }
   ],
   "source": [
    "sentence_scores = {}\n",
    "for sentence in sentences:\n",
    "    for word, freq in word_frequencies.items():\n",
    "        if word in sentence.lower():\n",
    "            if sentence not in sentence_scores.keys():\n",
    "                sentence_scores[sentence] = freq\n",
    "            else:\n",
    "                sentence_scores[sentence] += freq\n",
    "\n",
    "for sentence, scores in sentence_scores.items():\n",
    "    print(f\"{scores} : {sentence}\")"
   ]
  },
  {
   "cell_type": "code",
   "execution_count": 756,
   "metadata": {},
   "outputs": [
    {
     "data": {
      "text/plain": [
       "['under criterion a, discovery is significant as the oldest of the three extant orbiter vehicles constructed for the space shuttle program (ssp), the longest running american space program to date; she was the third of five orbiters built by nasa.',\n",
       " 'including her maiden voyage (launched august 30, 1984), discovery flew to space thirty-nine times, more than any of the other four orbiters; she was also the first orbiter to fly twenty missions.',\n",
       " 'the orbiter discovery, ov-103, is considered eligible for listing in the national register of historic places (nrhp) in the context of the u.s. space shuttle program (1969-2011) under criterion a in the areas of space exploration and transportation and under criterion c in the area of engineering.',\n",
       " 'the space shuttle orbiter also featured the first reusable tps; all previous spaceflight vehicles had a single-use, ablative heat shield.',\n",
       " 'according to wayne hale, a flight director from johnson space center, the space shuttle orbiter represents a “huge technological leap from expendable rockets and capsules to a reusable, winged, hypersonic, cargo-carrying spacecraft”.']"
      ]
     },
     "execution_count": 756,
     "metadata": {},
     "output_type": "execute_result"
    }
   ],
   "source": [
    "select_length = int(len(sentences) * 0.3)\n",
    "\n",
    "summary = nlargest(select_length, sentence_scores, key=sentence_scores.get)\n",
    "\n",
    "summary"
   ]
  },
  {
   "cell_type": "markdown",
   "metadata": {},
   "source": [
    "# Узагальнив вище написане двома функціями:"
   ]
  },
  {
   "cell_type": "code",
   "execution_count": 757,
   "metadata": {},
   "outputs": [
    {
     "data": {
      "text/plain": [
       "'under criterion a, discovery is significant as the oldest of the three extant orbiter vehicles constructed for the space shuttle program (ssp), the longest running american space program to date; she was the third of five orbiters built by nasa. the orbiter discovery, ov-103, is considered eligible for listing in the national register of historic places (nrhp) in the context of the u.s. space shuttle program (1969-2011) under criterion a in the areas of space exploration and transportation and under criterion c in the area of engineering. including her maiden voyage (launched august 30, 1984), discovery flew to space thirty-nine times, more than any of the other four orbiters; she was also the first orbiter to fly twenty missions. the space shuttle orbiter also featured the first reusable tps; all previous spaceflight vehicles had a single-use, ablative heat shield. according to wayne hale, a flight director from johnson space center, the space shuttle orbiter represents a “huge technological leap from expendable rockets and capsules to a reusable, winged, hypersonic, cargo-carrying spacecraft”.'"
      ]
     },
     "execution_count": 757,
     "metadata": {},
     "output_type": "execute_result"
    }
   ],
   "source": [
    "def filter_words(text: str) -> list:\n",
    "    words = word_tokenize(text)\n",
    "\n",
    "    words = [word for word in words if word.isalpha()]\n",
    "    words = [word for word in words if len(word) > 1]\n",
    "    filtered_words = [word for word in words if is_english_word(word)]\n",
    "    stop_words = stopwords.words('english') + ['iss', 'ii', 'dod']\n",
    "    filtered_words = [word for word in words if word not in stop_words]\n",
    "    \n",
    "    lemmatizer = WordNetLemmatizer()\n",
    "    lemmatized_words = [lemmatizer.lemmatize(word) for word in filtered_words]\n",
    "\n",
    "    return lemmatized_words\n",
    "\n",
    "\n",
    "def nltk_summary(text: str, words: list) -> str:\n",
    "    sentences = sent_tokenize(text)\n",
    "    \n",
    "    word_frequencies = FreqDist(words)\n",
    "\n",
    "    sentence_scores = {}\n",
    "    for sentence in sentences:\n",
    "        for word, freq in word_frequencies.items():\n",
    "            if word in sentence.lower():\n",
    "                if sentence not in sentence_scores:\n",
    "                    sentence_scores[sentence] = freq\n",
    "                else:\n",
    "                    sentence_scores[sentence] += freq\n",
    "    select_length = int(len(sentences) * 0.3)\n",
    "    summary_sentences = nlargest(select_length, sentence_scores, key=sentence_scores.get)\n",
    "    return ' '.join(summary_sentences)\n",
    "\n",
    "\n",
    "filtered_words = filter_words(data_text)\n",
    "summary_nltk = nltk_summary(data_text, filtered_words)\n",
    "summary_nltk"
   ]
  }
 ],
 "metadata": {
  "kernelspec": {
   "display_name": "Python 3",
   "language": "python",
   "name": "python3"
  },
  "language_info": {
   "codemirror_mode": {
    "name": "ipython",
    "version": 3
   },
   "file_extension": ".py",
   "mimetype": "text/x-python",
   "name": "python",
   "nbconvert_exporter": "python",
   "pygments_lexer": "ipython3",
   "version": "3.11.7"
  }
 },
 "nbformat": 4,
 "nbformat_minor": 2
}
