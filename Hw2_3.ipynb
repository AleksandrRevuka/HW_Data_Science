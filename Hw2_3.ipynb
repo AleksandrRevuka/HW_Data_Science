{
  "nbformat": 4,
  "nbformat_minor": 0,
  "metadata": {
    "colab": {
      "provenance": [],
      "authorship_tag": "ABX9TyNKt5exq3+BYx0Ln+zkZbPn",
      "include_colab_link": true
    },
    "kernelspec": {
      "name": "python3",
      "display_name": "Python 3"
    },
    "language_info": {
      "name": "python"
    }
  },
  "cells": [
    {
      "cell_type": "markdown",
      "metadata": {
        "id": "view-in-github",
        "colab_type": "text"
      },
      "source": [
        "<a href=\"https://colab.research.google.com/github/AleksandrRevuka/HW_Data_Science/blob/main/Hw2_3.ipynb\" target=\"_parent\"><img src=\"https://colab.research.google.com/assets/colab-badge.svg\" alt=\"Open In Colab\"/></a>"
      ]
    },
    {
      "cell_type": "code",
      "execution_count": 1,
      "metadata": {
        "colab": {
          "base_uri": "https://localhost:8080/",
          "height": 74
        },
        "id": "EsVOwXhvVl7S",
        "outputId": "2f500b54-ff75-4d07-bef4-7555b10b714f"
      },
      "outputs": [
        {
          "output_type": "display_data",
          "data": {
            "text/plain": [
              "<IPython.core.display.HTML object>"
            ],
            "text/html": [
              "\n",
              "     <input type=\"file\" id=\"files-14729614-df85-4afe-ad3c-669b7eb82321\" name=\"files[]\" multiple disabled\n",
              "        style=\"border:none\" />\n",
              "     <output id=\"result-14729614-df85-4afe-ad3c-669b7eb82321\">\n",
              "      Upload widget is only available when the cell has been executed in the\n",
              "      current browser session. Please rerun this cell to enable.\n",
              "      </output>\n",
              "      <script>// Copyright 2017 Google LLC\n",
              "//\n",
              "// Licensed under the Apache License, Version 2.0 (the \"License\");\n",
              "// you may not use this file except in compliance with the License.\n",
              "// You may obtain a copy of the License at\n",
              "//\n",
              "//      http://www.apache.org/licenses/LICENSE-2.0\n",
              "//\n",
              "// Unless required by applicable law or agreed to in writing, software\n",
              "// distributed under the License is distributed on an \"AS IS\" BASIS,\n",
              "// WITHOUT WARRANTIES OR CONDITIONS OF ANY KIND, either express or implied.\n",
              "// See the License for the specific language governing permissions and\n",
              "// limitations under the License.\n",
              "\n",
              "/**\n",
              " * @fileoverview Helpers for google.colab Python module.\n",
              " */\n",
              "(function(scope) {\n",
              "function span(text, styleAttributes = {}) {\n",
              "  const element = document.createElement('span');\n",
              "  element.textContent = text;\n",
              "  for (const key of Object.keys(styleAttributes)) {\n",
              "    element.style[key] = styleAttributes[key];\n",
              "  }\n",
              "  return element;\n",
              "}\n",
              "\n",
              "// Max number of bytes which will be uploaded at a time.\n",
              "const MAX_PAYLOAD_SIZE = 100 * 1024;\n",
              "\n",
              "function _uploadFiles(inputId, outputId) {\n",
              "  const steps = uploadFilesStep(inputId, outputId);\n",
              "  const outputElement = document.getElementById(outputId);\n",
              "  // Cache steps on the outputElement to make it available for the next call\n",
              "  // to uploadFilesContinue from Python.\n",
              "  outputElement.steps = steps;\n",
              "\n",
              "  return _uploadFilesContinue(outputId);\n",
              "}\n",
              "\n",
              "// This is roughly an async generator (not supported in the browser yet),\n",
              "// where there are multiple asynchronous steps and the Python side is going\n",
              "// to poll for completion of each step.\n",
              "// This uses a Promise to block the python side on completion of each step,\n",
              "// then passes the result of the previous step as the input to the next step.\n",
              "function _uploadFilesContinue(outputId) {\n",
              "  const outputElement = document.getElementById(outputId);\n",
              "  const steps = outputElement.steps;\n",
              "\n",
              "  const next = steps.next(outputElement.lastPromiseValue);\n",
              "  return Promise.resolve(next.value.promise).then((value) => {\n",
              "    // Cache the last promise value to make it available to the next\n",
              "    // step of the generator.\n",
              "    outputElement.lastPromiseValue = value;\n",
              "    return next.value.response;\n",
              "  });\n",
              "}\n",
              "\n",
              "/**\n",
              " * Generator function which is called between each async step of the upload\n",
              " * process.\n",
              " * @param {string} inputId Element ID of the input file picker element.\n",
              " * @param {string} outputId Element ID of the output display.\n",
              " * @return {!Iterable<!Object>} Iterable of next steps.\n",
              " */\n",
              "function* uploadFilesStep(inputId, outputId) {\n",
              "  const inputElement = document.getElementById(inputId);\n",
              "  inputElement.disabled = false;\n",
              "\n",
              "  const outputElement = document.getElementById(outputId);\n",
              "  outputElement.innerHTML = '';\n",
              "\n",
              "  const pickedPromise = new Promise((resolve) => {\n",
              "    inputElement.addEventListener('change', (e) => {\n",
              "      resolve(e.target.files);\n",
              "    });\n",
              "  });\n",
              "\n",
              "  const cancel = document.createElement('button');\n",
              "  inputElement.parentElement.appendChild(cancel);\n",
              "  cancel.textContent = 'Cancel upload';\n",
              "  const cancelPromise = new Promise((resolve) => {\n",
              "    cancel.onclick = () => {\n",
              "      resolve(null);\n",
              "    };\n",
              "  });\n",
              "\n",
              "  // Wait for the user to pick the files.\n",
              "  const files = yield {\n",
              "    promise: Promise.race([pickedPromise, cancelPromise]),\n",
              "    response: {\n",
              "      action: 'starting',\n",
              "    }\n",
              "  };\n",
              "\n",
              "  cancel.remove();\n",
              "\n",
              "  // Disable the input element since further picks are not allowed.\n",
              "  inputElement.disabled = true;\n",
              "\n",
              "  if (!files) {\n",
              "    return {\n",
              "      response: {\n",
              "        action: 'complete',\n",
              "      }\n",
              "    };\n",
              "  }\n",
              "\n",
              "  for (const file of files) {\n",
              "    const li = document.createElement('li');\n",
              "    li.append(span(file.name, {fontWeight: 'bold'}));\n",
              "    li.append(span(\n",
              "        `(${file.type || 'n/a'}) - ${file.size} bytes, ` +\n",
              "        `last modified: ${\n",
              "            file.lastModifiedDate ? file.lastModifiedDate.toLocaleDateString() :\n",
              "                                    'n/a'} - `));\n",
              "    const percent = span('0% done');\n",
              "    li.appendChild(percent);\n",
              "\n",
              "    outputElement.appendChild(li);\n",
              "\n",
              "    const fileDataPromise = new Promise((resolve) => {\n",
              "      const reader = new FileReader();\n",
              "      reader.onload = (e) => {\n",
              "        resolve(e.target.result);\n",
              "      };\n",
              "      reader.readAsArrayBuffer(file);\n",
              "    });\n",
              "    // Wait for the data to be ready.\n",
              "    let fileData = yield {\n",
              "      promise: fileDataPromise,\n",
              "      response: {\n",
              "        action: 'continue',\n",
              "      }\n",
              "    };\n",
              "\n",
              "    // Use a chunked sending to avoid message size limits. See b/62115660.\n",
              "    let position = 0;\n",
              "    do {\n",
              "      const length = Math.min(fileData.byteLength - position, MAX_PAYLOAD_SIZE);\n",
              "      const chunk = new Uint8Array(fileData, position, length);\n",
              "      position += length;\n",
              "\n",
              "      const base64 = btoa(String.fromCharCode.apply(null, chunk));\n",
              "      yield {\n",
              "        response: {\n",
              "          action: 'append',\n",
              "          file: file.name,\n",
              "          data: base64,\n",
              "        },\n",
              "      };\n",
              "\n",
              "      let percentDone = fileData.byteLength === 0 ?\n",
              "          100 :\n",
              "          Math.round((position / fileData.byteLength) * 100);\n",
              "      percent.textContent = `${percentDone}% done`;\n",
              "\n",
              "    } while (position < fileData.byteLength);\n",
              "  }\n",
              "\n",
              "  // All done.\n",
              "  yield {\n",
              "    response: {\n",
              "      action: 'complete',\n",
              "    }\n",
              "  };\n",
              "}\n",
              "\n",
              "scope.google = scope.google || {};\n",
              "scope.google.colab = scope.google.colab || {};\n",
              "scope.google.colab._files = {\n",
              "  _uploadFiles,\n",
              "  _uploadFilesContinue,\n",
              "};\n",
              "})(self);\n",
              "</script> "
            ]
          },
          "metadata": {}
        },
        {
          "output_type": "stream",
          "name": "stdout",
          "text": [
            "Saving bestsellers with categories.csv to bestsellers with categories.csv\n"
          ]
        }
      ],
      "source": [
        "from google.colab import files\n",
        "\n",
        "uploaded = files.upload()"
      ]
    },
    {
      "cell_type": "code",
      "source": [
        "import pandas as pd\n",
        "\n",
        "data = pd.read_csv(\"bestsellers with categories.csv\")\n",
        "\n",
        "bestsellers_with_categories = pd.DataFrame(data)\n",
        "\n",
        "bestsellers_with_categories.columns = ['name', 'author', 'user_rating', 'reviews', 'price', 'year', 'genre']\n",
        "\n",
        "bestsellers_with_categories.head()"
      ],
      "metadata": {
        "colab": {
          "base_uri": "https://localhost:8080/",
          "height": 206
        },
        "id": "5MdzgXGFbZKQ",
        "outputId": "898285f6-3968-42c5-e236-980aceba305e"
      },
      "execution_count": 127,
      "outputs": [
        {
          "output_type": "execute_result",
          "data": {
            "text/plain": [
              "                                                name  \\\n",
              "0                      10-Day Green Smoothie Cleanse   \n",
              "1                                  11/22/63: A Novel   \n",
              "2            12 Rules for Life: An Antidote to Chaos   \n",
              "3                             1984 (Signet Classics)   \n",
              "4  5,000 Awesome Facts (About Everything!) (Natio...   \n",
              "\n",
              "                     author  user_rating  reviews  price  year        genre  \n",
              "0                  JJ Smith          4.7    17350      8  2016  Non Fiction  \n",
              "1              Stephen King          4.6     2052     22  2011      Fiction  \n",
              "2        Jordan B. Peterson          4.7    18979     15  2018  Non Fiction  \n",
              "3             George Orwell          4.7    21424      6  2017      Fiction  \n",
              "4  National Geographic Kids          4.8     7665     12  2019  Non Fiction  "
            ],
            "text/html": [
              "\n",
              "  <div id=\"df-c3572743-d368-49fe-b660-4a301c4ef2cf\" class=\"colab-df-container\">\n",
              "    <div>\n",
              "<style scoped>\n",
              "    .dataframe tbody tr th:only-of-type {\n",
              "        vertical-align: middle;\n",
              "    }\n",
              "\n",
              "    .dataframe tbody tr th {\n",
              "        vertical-align: top;\n",
              "    }\n",
              "\n",
              "    .dataframe thead th {\n",
              "        text-align: right;\n",
              "    }\n",
              "</style>\n",
              "<table border=\"1\" class=\"dataframe\">\n",
              "  <thead>\n",
              "    <tr style=\"text-align: right;\">\n",
              "      <th></th>\n",
              "      <th>name</th>\n",
              "      <th>author</th>\n",
              "      <th>user_rating</th>\n",
              "      <th>reviews</th>\n",
              "      <th>price</th>\n",
              "      <th>year</th>\n",
              "      <th>genre</th>\n",
              "    </tr>\n",
              "  </thead>\n",
              "  <tbody>\n",
              "    <tr>\n",
              "      <th>0</th>\n",
              "      <td>10-Day Green Smoothie Cleanse</td>\n",
              "      <td>JJ Smith</td>\n",
              "      <td>4.7</td>\n",
              "      <td>17350</td>\n",
              "      <td>8</td>\n",
              "      <td>2016</td>\n",
              "      <td>Non Fiction</td>\n",
              "    </tr>\n",
              "    <tr>\n",
              "      <th>1</th>\n",
              "      <td>11/22/63: A Novel</td>\n",
              "      <td>Stephen King</td>\n",
              "      <td>4.6</td>\n",
              "      <td>2052</td>\n",
              "      <td>22</td>\n",
              "      <td>2011</td>\n",
              "      <td>Fiction</td>\n",
              "    </tr>\n",
              "    <tr>\n",
              "      <th>2</th>\n",
              "      <td>12 Rules for Life: An Antidote to Chaos</td>\n",
              "      <td>Jordan B. Peterson</td>\n",
              "      <td>4.7</td>\n",
              "      <td>18979</td>\n",
              "      <td>15</td>\n",
              "      <td>2018</td>\n",
              "      <td>Non Fiction</td>\n",
              "    </tr>\n",
              "    <tr>\n",
              "      <th>3</th>\n",
              "      <td>1984 (Signet Classics)</td>\n",
              "      <td>George Orwell</td>\n",
              "      <td>4.7</td>\n",
              "      <td>21424</td>\n",
              "      <td>6</td>\n",
              "      <td>2017</td>\n",
              "      <td>Fiction</td>\n",
              "    </tr>\n",
              "    <tr>\n",
              "      <th>4</th>\n",
              "      <td>5,000 Awesome Facts (About Everything!) (Natio...</td>\n",
              "      <td>National Geographic Kids</td>\n",
              "      <td>4.8</td>\n",
              "      <td>7665</td>\n",
              "      <td>12</td>\n",
              "      <td>2019</td>\n",
              "      <td>Non Fiction</td>\n",
              "    </tr>\n",
              "  </tbody>\n",
              "</table>\n",
              "</div>\n",
              "    <div class=\"colab-df-buttons\">\n",
              "\n",
              "  <div class=\"colab-df-container\">\n",
              "    <button class=\"colab-df-convert\" onclick=\"convertToInteractive('df-c3572743-d368-49fe-b660-4a301c4ef2cf')\"\n",
              "            title=\"Convert this dataframe to an interactive table.\"\n",
              "            style=\"display:none;\">\n",
              "\n",
              "  <svg xmlns=\"http://www.w3.org/2000/svg\" height=\"24px\" viewBox=\"0 -960 960 960\">\n",
              "    <path d=\"M120-120v-720h720v720H120Zm60-500h600v-160H180v160Zm220 220h160v-160H400v160Zm0 220h160v-160H400v160ZM180-400h160v-160H180v160Zm440 0h160v-160H620v160ZM180-180h160v-160H180v160Zm440 0h160v-160H620v160Z\"/>\n",
              "  </svg>\n",
              "    </button>\n",
              "\n",
              "  <style>\n",
              "    .colab-df-container {\n",
              "      display:flex;\n",
              "      gap: 12px;\n",
              "    }\n",
              "\n",
              "    .colab-df-convert {\n",
              "      background-color: #E8F0FE;\n",
              "      border: none;\n",
              "      border-radius: 50%;\n",
              "      cursor: pointer;\n",
              "      display: none;\n",
              "      fill: #1967D2;\n",
              "      height: 32px;\n",
              "      padding: 0 0 0 0;\n",
              "      width: 32px;\n",
              "    }\n",
              "\n",
              "    .colab-df-convert:hover {\n",
              "      background-color: #E2EBFA;\n",
              "      box-shadow: 0px 1px 2px rgba(60, 64, 67, 0.3), 0px 1px 3px 1px rgba(60, 64, 67, 0.15);\n",
              "      fill: #174EA6;\n",
              "    }\n",
              "\n",
              "    .colab-df-buttons div {\n",
              "      margin-bottom: 4px;\n",
              "    }\n",
              "\n",
              "    [theme=dark] .colab-df-convert {\n",
              "      background-color: #3B4455;\n",
              "      fill: #D2E3FC;\n",
              "    }\n",
              "\n",
              "    [theme=dark] .colab-df-convert:hover {\n",
              "      background-color: #434B5C;\n",
              "      box-shadow: 0px 1px 3px 1px rgba(0, 0, 0, 0.15);\n",
              "      filter: drop-shadow(0px 1px 2px rgba(0, 0, 0, 0.3));\n",
              "      fill: #FFFFFF;\n",
              "    }\n",
              "  </style>\n",
              "\n",
              "    <script>\n",
              "      const buttonEl =\n",
              "        document.querySelector('#df-c3572743-d368-49fe-b660-4a301c4ef2cf button.colab-df-convert');\n",
              "      buttonEl.style.display =\n",
              "        google.colab.kernel.accessAllowed ? 'block' : 'none';\n",
              "\n",
              "      async function convertToInteractive(key) {\n",
              "        const element = document.querySelector('#df-c3572743-d368-49fe-b660-4a301c4ef2cf');\n",
              "        const dataTable =\n",
              "          await google.colab.kernel.invokeFunction('convertToInteractive',\n",
              "                                                    [key], {});\n",
              "        if (!dataTable) return;\n",
              "\n",
              "        const docLinkHtml = 'Like what you see? Visit the ' +\n",
              "          '<a target=\"_blank\" href=https://colab.research.google.com/notebooks/data_table.ipynb>data table notebook</a>'\n",
              "          + ' to learn more about interactive tables.';\n",
              "        element.innerHTML = '';\n",
              "        dataTable['output_type'] = 'display_data';\n",
              "        await google.colab.output.renderOutput(dataTable, element);\n",
              "        const docLink = document.createElement('div');\n",
              "        docLink.innerHTML = docLinkHtml;\n",
              "        element.appendChild(docLink);\n",
              "      }\n",
              "    </script>\n",
              "  </div>\n",
              "\n",
              "\n",
              "<div id=\"df-decd8fd2-2163-4108-9d91-e32c21e40f71\">\n",
              "  <button class=\"colab-df-quickchart\" onclick=\"quickchart('df-decd8fd2-2163-4108-9d91-e32c21e40f71')\"\n",
              "            title=\"Suggest charts\"\n",
              "            style=\"display:none;\">\n",
              "\n",
              "<svg xmlns=\"http://www.w3.org/2000/svg\" height=\"24px\"viewBox=\"0 0 24 24\"\n",
              "     width=\"24px\">\n",
              "    <g>\n",
              "        <path d=\"M19 3H5c-1.1 0-2 .9-2 2v14c0 1.1.9 2 2 2h14c1.1 0 2-.9 2-2V5c0-1.1-.9-2-2-2zM9 17H7v-7h2v7zm4 0h-2V7h2v10zm4 0h-2v-4h2v4z\"/>\n",
              "    </g>\n",
              "</svg>\n",
              "  </button>\n",
              "\n",
              "<style>\n",
              "  .colab-df-quickchart {\n",
              "      --bg-color: #E8F0FE;\n",
              "      --fill-color: #1967D2;\n",
              "      --hover-bg-color: #E2EBFA;\n",
              "      --hover-fill-color: #174EA6;\n",
              "      --disabled-fill-color: #AAA;\n",
              "      --disabled-bg-color: #DDD;\n",
              "  }\n",
              "\n",
              "  [theme=dark] .colab-df-quickchart {\n",
              "      --bg-color: #3B4455;\n",
              "      --fill-color: #D2E3FC;\n",
              "      --hover-bg-color: #434B5C;\n",
              "      --hover-fill-color: #FFFFFF;\n",
              "      --disabled-bg-color: #3B4455;\n",
              "      --disabled-fill-color: #666;\n",
              "  }\n",
              "\n",
              "  .colab-df-quickchart {\n",
              "    background-color: var(--bg-color);\n",
              "    border: none;\n",
              "    border-radius: 50%;\n",
              "    cursor: pointer;\n",
              "    display: none;\n",
              "    fill: var(--fill-color);\n",
              "    height: 32px;\n",
              "    padding: 0;\n",
              "    width: 32px;\n",
              "  }\n",
              "\n",
              "  .colab-df-quickchart:hover {\n",
              "    background-color: var(--hover-bg-color);\n",
              "    box-shadow: 0 1px 2px rgba(60, 64, 67, 0.3), 0 1px 3px 1px rgba(60, 64, 67, 0.15);\n",
              "    fill: var(--button-hover-fill-color);\n",
              "  }\n",
              "\n",
              "  .colab-df-quickchart-complete:disabled,\n",
              "  .colab-df-quickchart-complete:disabled:hover {\n",
              "    background-color: var(--disabled-bg-color);\n",
              "    fill: var(--disabled-fill-color);\n",
              "    box-shadow: none;\n",
              "  }\n",
              "\n",
              "  .colab-df-spinner {\n",
              "    border: 2px solid var(--fill-color);\n",
              "    border-color: transparent;\n",
              "    border-bottom-color: var(--fill-color);\n",
              "    animation:\n",
              "      spin 1s steps(1) infinite;\n",
              "  }\n",
              "\n",
              "  @keyframes spin {\n",
              "    0% {\n",
              "      border-color: transparent;\n",
              "      border-bottom-color: var(--fill-color);\n",
              "      border-left-color: var(--fill-color);\n",
              "    }\n",
              "    20% {\n",
              "      border-color: transparent;\n",
              "      border-left-color: var(--fill-color);\n",
              "      border-top-color: var(--fill-color);\n",
              "    }\n",
              "    30% {\n",
              "      border-color: transparent;\n",
              "      border-left-color: var(--fill-color);\n",
              "      border-top-color: var(--fill-color);\n",
              "      border-right-color: var(--fill-color);\n",
              "    }\n",
              "    40% {\n",
              "      border-color: transparent;\n",
              "      border-right-color: var(--fill-color);\n",
              "      border-top-color: var(--fill-color);\n",
              "    }\n",
              "    60% {\n",
              "      border-color: transparent;\n",
              "      border-right-color: var(--fill-color);\n",
              "    }\n",
              "    80% {\n",
              "      border-color: transparent;\n",
              "      border-right-color: var(--fill-color);\n",
              "      border-bottom-color: var(--fill-color);\n",
              "    }\n",
              "    90% {\n",
              "      border-color: transparent;\n",
              "      border-bottom-color: var(--fill-color);\n",
              "    }\n",
              "  }\n",
              "</style>\n",
              "\n",
              "  <script>\n",
              "    async function quickchart(key) {\n",
              "      const quickchartButtonEl =\n",
              "        document.querySelector('#' + key + ' button');\n",
              "      quickchartButtonEl.disabled = true;  // To prevent multiple clicks.\n",
              "      quickchartButtonEl.classList.add('colab-df-spinner');\n",
              "      try {\n",
              "        const charts = await google.colab.kernel.invokeFunction(\n",
              "            'suggestCharts', [key], {});\n",
              "      } catch (error) {\n",
              "        console.error('Error during call to suggestCharts:', error);\n",
              "      }\n",
              "      quickchartButtonEl.classList.remove('colab-df-spinner');\n",
              "      quickchartButtonEl.classList.add('colab-df-quickchart-complete');\n",
              "    }\n",
              "    (() => {\n",
              "      let quickchartButtonEl =\n",
              "        document.querySelector('#df-decd8fd2-2163-4108-9d91-e32c21e40f71 button');\n",
              "      quickchartButtonEl.style.display =\n",
              "        google.colab.kernel.accessAllowed ? 'block' : 'none';\n",
              "    })();\n",
              "  </script>\n",
              "</div>\n",
              "    </div>\n",
              "  </div>\n"
            ]
          },
          "metadata": {},
          "execution_count": 127
        }
      ]
    },
    {
      "cell_type": "code",
      "source": [
        "rows, colums = bestsellers_with_categories.shape\n",
        "print(f\"rows: {rows}\\ncolums: {colums}\")"
      ],
      "metadata": {
        "colab": {
          "base_uri": "https://localhost:8080/"
        },
        "id": "lAmQBbAFfsT_",
        "outputId": "0622bf43-ac6c-41bc-b5d3-2a774c77a3b2"
      },
      "execution_count": 13,
      "outputs": [
        {
          "output_type": "stream",
          "name": "stdout",
          "text": [
            "rows: 550\n",
            "colums: 7\n"
          ]
        }
      ]
    },
    {
      "cell_type": "markdown",
      "source": [
        "**Про скільки книг зберігає дані датасет?** *Відповідь: 550*"
      ],
      "metadata": {
        "id": "NzPllpQ3gBRr"
      }
    },
    {
      "cell_type": "markdown",
      "source": [
        "# Перевірте, чи у всіх рядків вистачає даних: виведіть кількість пропусків (na) у кожному зі стовпців (використовуйте функції isna та sum)"
      ],
      "metadata": {
        "id": "-A3ObHBFcwgV"
      }
    },
    {
      "cell_type": "code",
      "source": [
        "missing_data = bestsellers_with_categories.isna().sum()\n",
        "\n",
        "print(\"Share missing:\")\n",
        "print(missing_data)"
      ],
      "metadata": {
        "colab": {
          "base_uri": "https://localhost:8080/"
        },
        "id": "eomlPd74cxP-",
        "outputId": "2abd7734-417f-4598-c78d-a62dd1f16c50"
      },
      "execution_count": 10,
      "outputs": [
        {
          "output_type": "stream",
          "name": "stdout",
          "text": [
            "Share missing:\n",
            "name           0\n",
            "author         0\n",
            "user_rating    0\n",
            "reviews        0\n",
            "price          0\n",
            "year           0\n",
            "genre          0\n",
            "dtype: int64\n"
          ]
        }
      ]
    },
    {
      "cell_type": "markdown",
      "source": [
        "**Чи є в якихось змінних пропуски?** *Відповідь: ні*"
      ],
      "metadata": {
        "id": "jygKODyJjXlZ"
      }
    },
    {
      "cell_type": "markdown",
      "source": [
        "# Перевірте, які є унікальні значення в колонці genre (використовуйте функцію unique)"
      ],
      "metadata": {
        "id": "d-T6X9nVjjzN"
      }
    },
    {
      "cell_type": "code",
      "source": [
        "unique_values = bestsellers_with_categories['genre'].unique()\n",
        "\n",
        "print(f\"Які є унікальні жанри? Відповідь: {unique_values}\")"
      ],
      "metadata": {
        "colab": {
          "base_uri": "https://localhost:8080/"
        },
        "id": "I0LCOIndjgce",
        "outputId": "d41f341d-3cad-484f-9577-40113725ef75"
      },
      "execution_count": 52,
      "outputs": [
        {
          "output_type": "stream",
          "name": "stdout",
          "text": [
            "Які є унікальні жанри? Відповідь: ['Non Fiction' 'Fiction']\n"
          ]
        }
      ]
    },
    {
      "cell_type": "markdown",
      "source": [
        "# Тепер подивіться на розподіл цін: побудуйте діаграму (використовуйте kind='hist')"
      ],
      "metadata": {
        "id": "vfvKXPQ_kd4x"
      }
    },
    {
      "cell_type": "code",
      "source": [
        "import matplotlib.pyplot as plt\n",
        "\n",
        "bestsellers_with_categories.price.plot(kind='hist', color=\"green\", width=7, edgecolor=\"black\", linewidth=2)\n",
        "\n",
        "plt.title('Розподіл цін на книги', color=\"midnightblue\", fontsize=15)\n",
        "plt.xlabel('Ціна')\n",
        "plt.ylabel('Кількість книг')\n",
        "plt.grid(linestyle='--')\n",
        "\n",
        "plt.show()"
      ],
      "metadata": {
        "colab": {
          "base_uri": "https://localhost:8080/",
          "height": 474
        },
        "id": "TyozFW-qkjVi",
        "outputId": "eb37de49-a33f-46b4-cfb9-2ab2a859a3e7"
      },
      "execution_count": 48,
      "outputs": [
        {
          "output_type": "display_data",
          "data": {
            "text/plain": [
              "<Figure size 640x480 with 1 Axes>"
            ],
            "image/png": "[encoded data removed]"
          },
          "metadata": {}
        }
      ]
    },
    {
      "cell_type": "markdown",
      "source": [
        "# Визначте, яка ціна у нас максимальна, мінімальна, середня, медіанна (використовуйте функції max, min, mean, median)"
      ],
      "metadata": {
        "id": "V_-vUs1g1Zs1"
      }
    },
    {
      "cell_type": "code",
      "source": [
        "max_price = bestsellers_with_categories['price'].max()\n",
        "\n",
        "min_price = bestsellers_with_categories['price'].min()\n",
        "\n",
        "mean_price = bestsellers_with_categories['price'].mean()\n",
        "\n",
        "median_price = bestsellers_with_categories['price'].median()\n",
        "\n",
        "print(f\"Максимальна ціна? Відповідь: {max_price}\")\n",
        "print(f\"Мінімальна ціна? Відповідь: {min_price}\")\n",
        "print(f\"Середня ціна? Відповідь: {mean_price}\")\n",
        "print(f\"Медіанна ціна? Відповідь: {median_price}\")"
      ],
      "metadata": {
        "colab": {
          "base_uri": "https://localhost:8080/"
        },
        "id": "NPinV_vW0Mtx",
        "outputId": "7e751c8b-c922-4aec-eb08-b5b2f163264c"
      },
      "execution_count": 51,
      "outputs": [
        {
          "output_type": "stream",
          "name": "stdout",
          "text": [
            "Максимальна ціна? Відповідь: 105\n",
            "Мінімальна ціна? Відповідь: 0\n",
            "Середня ціна? Відповідь: 13.1\n",
            "Медіанна ціна? Відповідь: 11.0\n"
          ]
        }
      ]
    },
    {
      "cell_type": "markdown",
      "source": [
        "# Пошук та сортування даних"
      ],
      "metadata": {
        "id": "YsX70lTS13rY"
      }
    },
    {
      "cell_type": "code",
      "source": [
        "max_user_rating = bestsellers_with_categories['user_rating'].max()\n",
        "\n",
        "print(f\"Який рейтинг у датасеті найвищий? Відповідь: {max_user_rating}\")"
      ],
      "metadata": {
        "colab": {
          "base_uri": "https://localhost:8080/"
        },
        "id": "U7e3JfpU4UGz",
        "outputId": "cf3efba1-0d0f-4fd0-e575-366473d2126c"
      },
      "execution_count": 53,
      "outputs": [
        {
          "output_type": "stream",
          "name": "stdout",
          "text": [
            "Який рейтинг у датасеті найвищий? Відповідь: 4.9\n"
          ]
        }
      ]
    },
    {
      "cell_type": "code",
      "source": [
        "number_books_max_rating = len(bestsellers_with_categories[bestsellers_with_categories['user_rating'] == 4.9])\n",
        "\n",
        "print(f\"Скільки книг мають такий рейтинг? Відповідь: {number_books_max_rating}\")"
      ],
      "metadata": {
        "colab": {
          "base_uri": "https://localhost:8080/"
        },
        "id": "05HEZU9-5I0Y",
        "outputId": "36c95421-79d8-46a2-ab82-2cf0f29f271c"
      },
      "execution_count": 55,
      "outputs": [
        {
          "output_type": "stream",
          "name": "stdout",
          "text": [
            "Скільки книг мають такий рейтинг? Відповідь: 52\n"
          ]
        }
      ]
    },
    {
      "cell_type": "code",
      "source": [
        "books_whith_max_reviews = bestsellers_with_categories[bestsellers_with_categories['reviews'] == bestsellers_with_categories['reviews'].max()]\n",
        "\n",
        "print(f\"Яка книга має найбільше відгуків? Відповідь: {books_whith_max_reviews.name.values[0]}\")"
      ],
      "metadata": {
        "colab": {
          "base_uri": "https://localhost:8080/"
        },
        "id": "VoVqd7GC6ezX",
        "outputId": "49873ee6-4ba7-483c-bf04-be05e35f2dd3"
      },
      "execution_count": 66,
      "outputs": [
        {
          "output_type": "stream",
          "name": "stdout",
          "text": [
            "Яка книга має найбільше відгуків? Відповідь: Where the Crawdads Sing\n"
          ]
        }
      ]
    },
    {
      "cell_type": "code",
      "source": [
        "top_books_2015 = bestsellers_with_categories[bestsellers_with_categories['year'] == 2015]\n",
        "\n",
        "most_expensive_book = top_books_2015[top_books_2015['price'] == top_books_2015['price'].max()]\n",
        "\n",
        "print(f\"З тих книг, що потрапили до Топ-50 у 2015 році, яка книга найдорожча (можна використати проміжний датафрейм)? Відповідь: {most_expensive_book.name.values[0]}\")"
      ],
      "metadata": {
        "colab": {
          "base_uri": "https://localhost:8080/"
        },
        "id": "gY-MQfYP-fkK",
        "outputId": "41d23dcf-0724-454f-8d6f-83cca1be480f"
      },
      "execution_count": 72,
      "outputs": [
        {
          "output_type": "stream",
          "name": "stdout",
          "text": [
            "З тих книг, що потрапили до Топ-50 у 2015 році, яка книга найдорожча (можна використати проміжний датафрейм)? Відповідь: Publication Manual of the American Psychological Association, 6th Edition\n"
          ]
        }
      ]
    },
    {
      "cell_type": "code",
      "source": [
        "fiction_books_2010 = bestsellers_with_categories[(bestsellers_with_categories['genre'] == \"Fiction\") & (bestsellers_with_categories['year'] == 2010)]\n",
        "\n",
        "count_fiction_books_2010 = fiction_books_2010.shape[0]\n",
        "\n",
        "print(f\"Скільки книг жанру Fiction потрапили до Топ-50 у 2010 році (використовуйте &)? Відповідь: {count_fiction_books_2010}\")"
      ],
      "metadata": {
        "colab": {
          "base_uri": "https://localhost:8080/"
        },
        "id": "Uc1YAySxC-eY",
        "outputId": "01643054-f765-4a85-f02c-b491e9d66b08"
      },
      "execution_count": 74,
      "outputs": [
        {
          "output_type": "stream",
          "name": "stdout",
          "text": [
            "Скільки книг жанру Fiction потрапили до Топ-50 у 2010 році (використовуйте &)? Відповідь: 20\n"
          ]
        }
      ]
    },
    {
      "cell_type": "code",
      "source": [
        "selected_years = [2010, 2011]\n",
        "books_with_rating_4_9 = bestsellers_with_categories[(bestsellers_with_categories['user_rating'] == 4.9) & (bestsellers_with_categories['year'].isin(selected_years))]\n",
        "\n",
        "count_books_with_rating_4_9 = books_with_rating_4_9.shape[0]\n",
        "\n",
        "print(f\"Скільки книг з рейтингом 4.9 потрапило до рейтингу у 2010 та 2011 роках (використовуйте | або функцію isin)? Відповідь: {count_books_with_rating_4_9}\")"
      ],
      "metadata": {
        "colab": {
          "base_uri": "https://localhost:8080/"
        },
        "id": "o8ZqrSUUFyoS",
        "outputId": "d116d5bb-5c5b-4ae4-f873-03422133387f"
      },
      "execution_count": 76,
      "outputs": [
        {
          "output_type": "stream",
          "name": "stdout",
          "text": [
            "Скільки книг з рейтингом 4.9 потрапило до рейтингу у 2010 та 2011 роках (використовуйте | або функцію isin)? Відповідь: 1\n"
          ]
        }
      ]
    },
    {
      "cell_type": "code",
      "source": [
        "top_books_2015_filter = top_books_2015[top_books_2015['price'] < 8]\n",
        "sort_top_books_2015 = top_books_2015_filter.sort_values(by=['price'])\n",
        "\n",
        "last_book_sort_top_books_2015 = sort_top_books_2015[-1:]\n",
        "\n",
        "print(f\"Яка книга остання у відсортованому списку? Відповідь: {last_book_sort_top_books_2015.name.values[0]}\")"
      ],
      "metadata": {
        "colab": {
          "base_uri": "https://localhost:8080/"
        },
        "id": "CkQd9tTDGqwP",
        "outputId": "ad6c1998-5ffb-499a-c3f3-3b7ac8b7550a"
      },
      "execution_count": 126,
      "outputs": [
        {
          "output_type": "stream",
          "name": "stdout",
          "text": [
            "Яка книга остання у відсортованому списку? Відповідь: Old School (Diary of a Wimpy Kid #10)\n"
          ]
        }
      ]
    },
    {
      "cell_type": "markdown",
      "source": [
        "# Агрегування даних та з'єднання таблиць"
      ],
      "metadata": {
        "id": "88wOwawkReAn"
      }
    },
    {
      "cell_type": "markdown",
      "source": [
        "Для початку давайте подивимося на максимальну та мінімальну ціни для кожного з жанрів (використовуйте функції groupby та agg, для підрахунку мінімальних та максимальних значень використовуйте max та min). Не беріть усі стовпці, виберіть тільки потрібні вам"
      ],
      "metadata": {
        "id": "5C-Bj-Lxbo9c"
      }
    },
    {
      "cell_type": "code",
      "source": [
        "selected_columns = [\"genre\", \"price\"]\n",
        "price_fiction = bestsellers_with_categories[selected_columns].groupby(\"genre\").agg({\"price\": [\"min\", \"max\"]})\n",
        "\n",
        "price_fiction.columns = [\"min_price\", \"max_price\"]\n",
        "\n",
        "for genre in price_fiction.index:\n",
        "    max_price = price_fiction.loc[genre, \"max_price\"]\n",
        "    min_price = price_fiction.loc[genre, \"min_price\"]\n",
        "    print(f\"Максимальна ціна для жанру {genre}: {max_price}\")\n",
        "    print(f\"Мінімальна ціна для жанру {genre}: {min_price}\")"
      ],
      "metadata": {
        "colab": {
          "base_uri": "https://localhost:8080/"
        },
        "id": "XIKB4htSRgyh",
        "outputId": "55abed25-3be9-497d-9795-556394157ec5"
      },
      "execution_count": 108,
      "outputs": [
        {
          "output_type": "stream",
          "name": "stdout",
          "text": [
            "Максимальна ціна для жанру Fiction: 82\n",
            "Мінімальна ціна для жанру Fiction: 0\n",
            "Максимальна ціна для жанру Non Fiction: 105\n",
            "Мінімальна ціна для жанру Non Fiction: 0\n"
          ]
        }
      ]
    },
    {
      "cell_type": "markdown",
      "source": [
        "Тепер створіть новий датафрейм, який вміщатиме кількість книг для кожного з авторів (використовуйте функції groupby та agg, для підрахунку кількості використовуйте count). Не беріть усі стовпці, виберете тільки потрібні"
      ],
      "metadata": {
        "id": "DkYeMrlRkomZ"
      }
    },
    {
      "cell_type": "code",
      "source": [
        "selected_columns = [\"name\", \"author\"]\n",
        "\n",
        "author_name_books = bestsellers_with_categories[selected_columns].groupby(\"author\").agg({\"name\": [\"count\"]})\n",
        "\n",
        "author_name_books.columns = [\"book_count\"]\n",
        "\n",
        "author = author_name_books[\"book_count\"].idxmax()\n",
        "count_books = author_name_books[\"book_count\"].max()\n",
        "\n",
        "print(f\"Якої розмірності вийшла таблиця? Відповідь: {author_name_books.shape}\")\n",
        "print(f\"Який автор має найбільше книг? Відповідь: {author}\")\n",
        "print(f\"Скільки книг цього автора? Відповідь: {count_books}\")"
      ],
      "metadata": {
        "colab": {
          "base_uri": "https://localhost:8080/"
        },
        "id": "_MKl4qbJkpXa",
        "outputId": "238b7a8e-95f4-453c-acb2-cb55387af3f4"
      },
      "execution_count": 111,
      "outputs": [
        {
          "output_type": "stream",
          "name": "stdout",
          "text": [
            "Якої розмірності вийшла таблиця? Відповідь: (248, 1)\n",
            "Який автор має найбільше книг? Відповідь: Jeff Kinney\n",
            "Скільки книг цього автора? Відповідь: 12\n"
          ]
        }
      ]
    },
    {
      "cell_type": "markdown",
      "source": [
        "Тепер створіть другий датафрейм, який буде вміщати середній рейтинг для кожного автора (використовуйте функції groupby та agg, для підрахунку середнього значення використовуйте mean). Не беріть усі стовпці, виберете тільки потрібні"
      ],
      "metadata": {
        "id": "OjKGq9IIqbie"
      }
    },
    {
      "cell_type": "code",
      "source": [
        "selected_columns = [\"user_rating\", \"author\"]\n",
        "\n",
        "author_user_rating = bestsellers_with_categories[selected_columns].groupby(\"author\").agg({\"user_rating\": [\"mean\"]})\n",
        "\n",
        "author_user_rating.columns = [\"rating_mean\"]\n",
        "\n",
        "author = author_user_rating[\"rating_mean\"].idxmin()\n",
        "mean_rating = author_user_rating[\"rating_mean\"].min()\n",
        "\n",
        "print(f\"У якого автора середній рейтинг мінімальний? Відповідь: {author}\")\n",
        "print(f\"Який у цього автора середній рейтинг? Відповідь: {mean_rating}\")"
      ],
      "metadata": {
        "colab": {
          "base_uri": "https://localhost:8080/"
        },
        "id": "WXck4EBGqd2V",
        "outputId": "61f66145-e8d2-4e33-861c-4e7b9bcf52bb"
      },
      "execution_count": 113,
      "outputs": [
        {
          "output_type": "stream",
          "name": "stdout",
          "text": [
            "У якого автора середній рейтинг мінімальний? Відповідь: Donna Tartt\n",
            "Який у цього автора середній рейтинг? Відповідь: 3.9\n"
          ]
        }
      ]
    },
    {
      "cell_type": "markdown",
      "source": [
        "З'єднайте останні два датафрейми так, щоб для кожного автора було видно кількість книг та середній рейтинг (Використовуйте функцію concat з параметром axis=1). Збережіть результат у змінну"
      ],
      "metadata": {
        "id": "GHFq8Mygs0wi"
      }
    },
    {
      "cell_type": "code",
      "source": [
        "merged_authors = pd.concat([author_name_books, author_user_rating], axis=1)\n",
        "\n",
        "merged_authors = merged_authors.sort_values(by=[\"book_count\", \"rating_mean\"])\n",
        "\n",
        "print(f\"Який автор перший у списку? Відповідь: {merged_authors.index[0]}\")"
      ],
      "metadata": {
        "colab": {
          "base_uri": "https://localhost:8080/"
        },
        "id": "ooO2tISGs3Jn",
        "outputId": "fedb261b-4ea4-485a-e33a-ed36eba7f5fd"
      },
      "execution_count": 124,
      "outputs": [
        {
          "output_type": "stream",
          "name": "stdout",
          "text": [
            "Який автор перший у списку? Відповідь: Muriel Barbery\n"
          ]
        }
      ]
    },
    {
      "cell_type": "markdown",
      "source": [
        "додайте від 3 до 5 графіків функцій різного типу на ваш вибір. Задайте графікам оформлення, щоб кожен графік у своїй домашній роботі чимось відрізнявся і не був схожим на інші. Можна використовувати як matplotlib, так і seaborn."
      ],
      "metadata": {
        "id": "FVR7FkoC3twi"
      }
    },
    {
      "cell_type": "code",
      "source": [
        "import matplotlib.pyplot as plt\n",
        "import seaborn as sns\n",
        "\n",
        "\n",
        "plt.figure(figsize=(10, 6))\n",
        "sns.scatterplot(x='user_rating', y='price', data=bestsellers_with_categories, color='coral')\n",
        "plt.title('Залежність рейтингу від ціни книги')\n",
        "plt.xlabel('Рейтинг')\n",
        "plt.ylabel('Ціна')\n",
        "plt.grid(linestyle='--', axis='y')\n",
        "\n",
        "plt.show()"
      ],
      "metadata": {
        "colab": {
          "base_uri": "https://localhost:8080/",
          "height": 564
        },
        "id": "uXXWRkba0DHb",
        "outputId": "792ef6d3-e4a3-4643-c771-aab3704bbcce"
      },
      "execution_count": 138,
      "outputs": [
        {
          "output_type": "display_data",
          "data": {
            "text/plain": [
              "<Figure size 1000x600 with 1 Axes>"
            ],
            "image/png": "[encoded data removed]"
          },
          "metadata": {}
        }
      ]
    },
    {
      "cell_type": "code",
      "source": [
        "plt.figure(figsize=(10, 6))\n",
        "sns.scatterplot(x='reviews', y='user_rating', data=bestsellers_with_categories, color='skyblue')\n",
        "plt.title('Залежність рейтингу від кількості відгуків')\n",
        "plt.xlabel('Кількість відгуків')\n",
        "plt.ylabel('Рейтинг')\n",
        "plt.grid(linestyle='--', axis='x')\n",
        "\n",
        "plt.show()"
      ],
      "metadata": {
        "colab": {
          "base_uri": "https://localhost:8080/",
          "height": 564
        },
        "id": "gE23N3Bv1jPx",
        "outputId": "05490e78-9517-4536-f717-1d69d41d3e65"
      },
      "execution_count": 139,
      "outputs": [
        {
          "output_type": "display_data",
          "data": {
            "text/plain": [
              "<Figure size 1000x600 with 1 Axes>"
            ],
            "image/png": "[encoded data removed]"
          },
          "metadata": {}
        }
      ]
    },
    {
      "cell_type": "code",
      "source": [
        "plt.figure(figsize=(10, 6))\n",
        "sns.lineplot(x='year', y='user_rating', data=bestsellers_with_categories, color='green')\n",
        "plt.title('Зміна рейтингу від року видання')\n",
        "plt.xlabel('Рік видання')\n",
        "plt.ylabel('Рейтинг')\n",
        "plt.grid(linestyle='--')\n",
        "\n",
        "plt.show()"
      ],
      "metadata": {
        "colab": {
          "base_uri": "https://localhost:8080/",
          "height": 564
        },
        "id": "tgSRkvdS1q5j",
        "outputId": "e374e2f9-bf10-40ca-aa3b-11ef8f30ffc6"
      },
      "execution_count": 136,
      "outputs": [
        {
          "output_type": "display_data",
          "data": {
            "text/plain": [
              "<Figure size 1000x600 with 1 Axes>"
            ],
            "image/png": "[encoded data removed]"
          },
          "metadata": {}
        }
      ]
    }
  ]
}