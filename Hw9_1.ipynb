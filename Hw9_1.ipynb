{
  "cells": [
    {
      "cell_type": "markdown",
      "metadata": {
        "colab_type": "text",
        "id": "view-in-github"
      },
      "source": [
        "<a href=\"https://colab.research.google.com/github/AleksandrRevuka/HW_Data_Science/blob/main/Hw9_1.ipynb\" target=\"_parent\"><img src=\"https://colab.research.google.com/assets/colab-badge.svg\" alt=\"Open In Colab\"/></a>"
      ]
    },
    {
      "cell_type": "code",
      "execution_count": 28,
      "metadata": {
        "id": "7uW9nfNfqjvn"
      },
      "outputs": [],
      "source": [
        "import numpy as np\n",
        "import matplotlib.pyplot as plt\n",
        "import keras_tuner\n",
        "import tensorflow as tf\n",
        "from sklearn.metrics import f1_score\n",
        "\n",
        "from keras import layers\n",
        "from keras.utils import to_categorical\n",
        "from keras.models import Sequential\n",
        "from keras.layers import Dense, Flatten, Dropout, Conv2D\n",
        "from keras.regularizers import l2, l1\n",
        "from keras.optimizers import SGD, Adam, RMSprop, Adagrad, Adadelta, Nadam, Adamax, Ftrl\n",
        "from keras.datasets import fashion_mnist"
      ]
    },
    {
      "cell_type": "code",
      "execution_count": 29,
      "metadata": {
        "id": "Sjn_g7sequl9"
      },
      "outputs": [],
      "source": [
        "def plot_history(history):\n",
        "    history_dict = history.history\n",
        "    loss_values = history_dict['loss']\n",
        "    val_loss_values = history_dict['val_loss']\n",
        "    val_acc_values = history_dict['val_accuracy']\n",
        "\n",
        "    epochs = range(1, len(history_dict['accuracy']) + 1)\n",
        "\n",
        "    plt.style.use('ggplot')\n",
        "\n",
        "    plt.figure(figsize=(12, 6))\n",
        "    plt.plot(epochs, loss_values, 'bo', label='Training loss')\n",
        "    plt.plot(epochs, val_loss_values, 'b', label='Validation loss')\n",
        "    plt.title('Training and validation loss')\n",
        "    plt.xlabel('Epochs')\n",
        "    plt.ylabel('Loss')\n",
        "    plt.legend()\n",
        "    plt.grid(linestyle='--')\n",
        "    plt.show()\n",
        "\n",
        "    plt.figure(figsize=(12, 6))\n",
        "    plt.clf()\n",
        "    plt.plot(epochs, history_dict['accuracy'], 'bo', label='Training acc')\n",
        "    plt.plot(epochs, val_acc_values, 'b', label='Validation acc')\n",
        "    plt.title('Training and validation accuracy')\n",
        "    plt.xlabel('Epochs')\n",
        "    plt.ylabel('Accuracy')\n",
        "    plt.legend()\n",
        "    plt.grid(linestyle='--')\n",
        "    plt.show()"
      ]
    },
    {
      "cell_type": "code",
      "execution_count": 30,
      "metadata": {
        "colab": {
          "base_uri": "https://localhost:8080/"
        },
        "id": "ZOiJ0jVvq3HW",
        "outputId": "1d9feb5f-bcd9-40b0-b111-893902f01f1b"
      },
      "outputs": [],
      "source": [
        "(train_data, train_labels), (test_data, test_labels) = fashion_mnist.load_data()\n",
        "\n",
        "train_data, test_data = train_data / 255., test_data / 255."
      ]
    },
    {
      "cell_type": "code",
      "execution_count": 31,
      "metadata": {
        "id": "pparzrLIq5zB"
      },
      "outputs": [],
      "source": [
        "clothing_classes = 10\n",
        "n_hidden_1 = 64\n",
        "n_hidden_2 = 128\n",
        "n_hidden_3 = 256\n",
        "epochs = 10"
      ]
    },
    {
      "cell_type": "code",
      "execution_count": 32,
      "metadata": {
        "id": "g2bYVXNJq8fK"
      },
      "outputs": [],
      "source": [
        "def build_model():\n",
        "    model = Sequential([\n",
        "        Flatten(input_shape=(28, 28)),\n",
        "        Dense(n_hidden_3, activation='relu'),\n",
        "        Dense(n_hidden_2, activation='relu'),\n",
        "        Dense(n_hidden_1, activation='relu'),\n",
        "        Dense(clothing_classes, activation='softmax'),\n",
        "    ])\n",
        "\n",
        "    model.compile(\n",
        "        optimizer=Adamax(learning_rate=0.001),\n",
        "        loss='sparse_categorical_crossentropy',\n",
        "        metrics=['accuracy']\n",
        "    )\n",
        "    return model"
      ]
    },
    {
      "cell_type": "code",
      "execution_count": 33,
      "metadata": {
        "colab": {
          "base_uri": "https://localhost:8080/"
        },
        "id": "YtdYw5qxq_JZ",
        "outputId": "b807134f-8380-481d-c281-6578f65d5ba0"
      },
      "outputs": [
        {
          "name": "stdout",
          "output_type": "stream",
          "text": [
            "Model: \"sequential_2\"\n",
            "_________________________________________________________________\n",
            " Layer (type)                Output Shape              Param #   \n",
            "=================================================================\n",
            " flatten_2 (Flatten)         (None, 784)               0         \n",
            "                                                                 \n",
            " dense_4 (Dense)             (None, 256)               200960    \n",
            "                                                                 \n",
            " dense_5 (Dense)             (None, 128)               32896     \n",
            "                                                                 \n",
            " dense_6 (Dense)             (None, 64)                8256      \n",
            "                                                                 \n",
            " dense_7 (Dense)             (None, 10)                650       \n",
            "                                                                 \n",
            "=================================================================\n",
            "Total params: 242762 (948.29 KB)\n",
            "Trainable params: 242762 (948.29 KB)\n",
            "Non-trainable params: 0 (0.00 Byte)\n",
            "_________________________________________________________________\n"
          ]
        }
      ],
      "source": [
        "model = build_model()\n",
        "model.summary()"
      ]
    },
    {
      "cell_type": "code",
      "execution_count": 34,
      "metadata": {
        "colab": {
          "base_uri": "https://localhost:8080/"
        },
        "id": "yPYA6X_GrDJf",
        "outputId": "494c3dec-f19c-4c5f-929a-afed05171b03"
      },
      "outputs": [
        {
          "name": "stdout",
          "output_type": "stream",
          "text": [
            "Epoch 1/10\n",
            "1875/1875 [==============================] - 5s 3ms/step - loss: 0.5160 - accuracy: 0.8193 - val_loss: 0.4376 - val_accuracy: 0.8454\n",
            "Epoch 2/10\n",
            "1875/1875 [==============================] - 5s 2ms/step - loss: 0.3837 - accuracy: 0.8629 - val_loss: 0.3896 - val_accuracy: 0.8623\n",
            "Epoch 3/10\n",
            "1875/1875 [==============================] - 4s 2ms/step - loss: 0.3426 - accuracy: 0.8751 - val_loss: 0.3839 - val_accuracy: 0.8616\n",
            "Epoch 4/10\n",
            "1875/1875 [==============================] - 5s 3ms/step - loss: 0.3178 - accuracy: 0.8838 - val_loss: 0.3944 - val_accuracy: 0.8599\n",
            "Epoch 5/10\n",
            "1875/1875 [==============================] - 4s 2ms/step - loss: 0.2974 - accuracy: 0.8916 - val_loss: 0.3407 - val_accuracy: 0.8782\n",
            "Epoch 6/10\n",
            "1875/1875 [==============================] - 4s 2ms/step - loss: 0.2832 - accuracy: 0.8965 - val_loss: 0.3366 - val_accuracy: 0.8769\n",
            "Epoch 7/10\n",
            "1875/1875 [==============================] - 4s 2ms/step - loss: 0.2701 - accuracy: 0.9004 - val_loss: 0.3429 - val_accuracy: 0.8798\n",
            "Epoch 8/10\n",
            "1875/1875 [==============================] - 4s 2ms/step - loss: 0.2573 - accuracy: 0.9047 - val_loss: 0.3300 - val_accuracy: 0.8839\n",
            "Epoch 9/10\n",
            "1875/1875 [==============================] - 4s 2ms/step - loss: 0.2456 - accuracy: 0.9095 - val_loss: 0.3428 - val_accuracy: 0.8784\n",
            "Epoch 10/10\n",
            "1875/1875 [==============================] - 4s 2ms/step - loss: 0.2355 - accuracy: 0.9122 - val_loss: 0.3297 - val_accuracy: 0.8847\n"
          ]
        }
      ],
      "source": [
        "history = model.fit(train_data, train_labels, epochs=epochs, validation_split=0.4, validation_data=(test_data, test_labels))\n"
      ]
    },
    {
      "cell_type": "code",
      "execution_count": 35,
      "metadata": {
        "colab": {
          "base_uri": "https://localhost:8080/",
          "height": 1000
        },
        "id": "FbIHRn90rGs-",
        "outputId": "5d784ac0-1293-4a03-c994-e1d22c587ec3"
      },
      "outputs": [
        {
          "data": {
            "image/png": "[encoded data removed]",
            "text/plain": [
              "<Figure size 1200x600 with 1 Axes>"
            ]
          },
          "metadata": {},
          "output_type": "display_data"
        },
        {
          "data": {
            "image/png": "[encoded data removed]",
            "text/plain": [
              "<Figure size 1200x600 with 1 Axes>"
            ]
          },
          "metadata": {},
          "output_type": "display_data"
        }
      ],
      "source": [
        "plot_history(history)"
      ]
    },
    {
      "cell_type": "code",
      "execution_count": 36,
      "metadata": {
        "colab": {
          "base_uri": "https://localhost:8080/"
        },
        "id": "G1K7lAwvrJwC",
        "outputId": "55507b2a-aeb3-48fd-be02-bf97496dacee"
      },
      "outputs": [
        {
          "name": "stdout",
          "output_type": "stream",
          "text": [
            "313/313 [==============================] - 0s 1ms/step - loss: 0.3297 - accuracy: 0.8847\n",
            "[0.32968994975090027, 0.8847000002861023]\n"
          ]
        }
      ],
      "source": [
        "results = model.evaluate(test_data, test_labels)\n",
        "print(results)"
      ]
    },
    {
      "cell_type": "markdown",
      "metadata": {},
      "source": [
        "Вручну вдалося добитися accuracy: 0.8847 на валідаційних данних але не 0.91!"
      ]
    },
    {
      "cell_type": "markdown",
      "metadata": {},
      "source": [
        "Автоматичний підбір гіперпараметрів:"
      ]
    },
    {
      "cell_type": "code",
      "execution_count": 37,
      "metadata": {},
      "outputs": [],
      "source": [
        "def build_model_auto(hp):\n",
        "    model = Sequential()\n",
        "    model.add(Flatten())\n",
        "    for i in range(hp.Int(\"num_layers\", 2, 4)):\n",
        "      model.add(\n",
        "          Dense(\n",
        "              units=hp.Int(f\"units_{i}\", min_value=32, max_value=512, step=32),\n",
        "              activation=\"relu\"\n",
        "          )\n",
        "      )\n",
        "\n",
        "    if hp.Boolean(\"dropout\"):\n",
        "        model.add(Dropout(rate=0.25))\n",
        "    model.add(Dense(10, activation=\"softmax\"))\n",
        "\n",
        "    learning_rate = hp.Float(\"lr\", min_value=1e-4, max_value=1e-2, sampling=\"log\")\n",
        "    model.compile(\n",
        "        optimizer=Adam(learning_rate=learning_rate),\n",
        "        loss=\"sparse_categorical_crossentropy\",\n",
        "        metrics=[\"accuracy\"],\n",
        "    )\n",
        "    return model\n"
      ]
    },
    {
      "cell_type": "code",
      "execution_count": 38,
      "metadata": {},
      "outputs": [],
      "source": [
        "tuner = keras_tuner.RandomSearch(\n",
        "    hypermodel=build_model_auto,\n",
        "    objective=\"val_accuracy\",\n",
        "    max_trials=5,\n",
        "    executions_per_trial=1,\n",
        "    overwrite=True,\n",
        ")\n"
      ]
    },
    {
      "cell_type": "code",
      "execution_count": 39,
      "metadata": {},
      "outputs": [
        {
          "name": "stdout",
          "output_type": "stream",
          "text": [
            "Trial 5 Complete [00h 00m 50s]\n",
            "val_accuracy: 0.8346999883651733\n",
            "\n",
            "Best val_accuracy So Far: 0.8855999708175659\n",
            "Total elapsed time: 00h 03m 53s\n"
          ]
        }
      ],
      "source": [
        "tuner.search(train_data, train_labels, epochs=10, validation_data=(test_data, test_labels))"
      ]
    },
    {
      "cell_type": "code",
      "execution_count": 40,
      "metadata": {},
      "outputs": [
        {
          "name": "stdout",
          "output_type": "stream",
          "text": [
            "Results summary\n",
            "Results in .\\untitled_project\n",
            "Showing 10 best trials\n",
            "Objective(name=\"val_accuracy\", direction=\"max\")\n",
            "\n",
            "Trial 2 summary\n",
            "Hyperparameters:\n",
            "num_layers: 3\n",
            "units_0: 512\n",
            "units_1: 352\n",
            "dropout: True\n",
            "lr: 0.0005716024863895304\n",
            "units_2: 128\n",
            "units_3: 448\n",
            "Score: 0.8855999708175659\n",
            "\n",
            "Trial 3 summary\n",
            "Hyperparameters:\n",
            "num_layers: 3\n",
            "units_0: 96\n",
            "units_1: 128\n",
            "dropout: True\n",
            "lr: 0.00017951154199797646\n",
            "units_2: 96\n",
            "units_3: 416\n",
            "Score: 0.8765000104904175\n",
            "\n",
            "Trial 1 summary\n",
            "Hyperparameters:\n",
            "num_layers: 4\n",
            "units_0: 32\n",
            "units_1: 160\n",
            "dropout: False\n",
            "lr: 0.0004908089895878096\n",
            "units_2: 32\n",
            "units_3: 32\n",
            "Score: 0.8741999864578247\n",
            "\n",
            "Trial 0 summary\n",
            "Hyperparameters:\n",
            "num_layers: 2\n",
            "units_0: 96\n",
            "units_1: 32\n",
            "dropout: True\n",
            "lr: 0.002752738682669076\n",
            "Score: 0.8698999881744385\n",
            "\n",
            "Trial 4 summary\n",
            "Hyperparameters:\n",
            "num_layers: 4\n",
            "units_0: 128\n",
            "units_1: 320\n",
            "dropout: True\n",
            "lr: 0.006715083131370706\n",
            "units_2: 192\n",
            "units_3: 160\n",
            "Score: 0.8346999883651733\n"
          ]
        }
      ],
      "source": [
        "tuner.results_summary()"
      ]
    },
    {
      "cell_type": "code",
      "execution_count": 41,
      "metadata": {},
      "outputs": [
        {
          "name": "stdout",
          "output_type": "stream",
          "text": [
            "Model: \"sequential\"\n",
            "_________________________________________________________________\n",
            " Layer (type)                Output Shape              Param #   \n",
            "=================================================================\n",
            " flatten (Flatten)           (None, 784)               0         \n",
            "                                                                 \n",
            " dense (Dense)               (None, 512)               401920    \n",
            "                                                                 \n",
            " dense_1 (Dense)             (None, 352)               180576    \n",
            "                                                                 \n",
            " dense_2 (Dense)             (None, 128)               45184     \n",
            "                                                                 \n",
            " dropout (Dropout)           (None, 128)               0         \n",
            "                                                                 \n",
            " dense_3 (Dense)             (None, 10)                1290      \n",
            "                                                                 \n",
            "=================================================================\n",
            "Total params: 628970 (2.40 MB)\n",
            "Trainable params: 628970 (2.40 MB)\n",
            "Non-trainable params: 0 (0.00 Byte)\n",
            "_________________________________________________________________\n"
          ]
        }
      ],
      "source": [
        "models = tuner.get_best_models()\n",
        "best_model = models[0]\n",
        "\n",
        "best_model.build(input_shape=(None, 28, 28))\n",
        "best_model.summary()"
      ]
    },
    {
      "cell_type": "code",
      "execution_count": 42,
      "metadata": {},
      "outputs": [
        {
          "name": "stdout",
          "output_type": "stream",
          "text": [
            "313/313 [==============================] - 1s 1ms/step - loss: 0.3227 - accuracy: 0.8856\n",
            "[0.32273468375205994, 0.8855999708175659]\n"
          ]
        }
      ],
      "source": [
        "results = best_model.evaluate(test_data, test_labels)\n",
        "print(results)"
      ]
    },
    {
      "cell_type": "markdown",
      "metadata": {},
      "source": [
        "Автоматично підбираючи кількість нейронів та шарів вдалося добитися accuracy: 0.88856 на валідаційних данних але не 0.91"
      ]
    },
    {
      "cell_type": "code",
      "execution_count": 43,
      "metadata": {},
      "outputs": [],
      "source": [
        "def build_model_filter(hp):\n",
        "  model = Sequential([\n",
        "    Conv2D(\n",
        "        filters=hp.Int('conv_1_filter', min_value=64, max_value=128, step=16),\n",
        "        kernel_size=hp.Choice('conv_1_kernel', values = [3,5]),\n",
        "        activation='relu',\n",
        "        input_shape=(28,28,1)\n",
        "    ),\n",
        "    Conv2D(\n",
        "        filters=hp.Int('conv_2_filter', min_value=32, max_value=64, step=16),\n",
        "        kernel_size=hp.Choice('conv_2_kernel', values = [3,5]),\n",
        "        activation='relu'\n",
        "    ),\n",
        "    Flatten(),\n",
        "    Dense(\n",
        "        units=hp.Int('dense_1_units', min_value=32, max_value=128, step=16),\n",
        "        activation='relu'\n",
        "    ),\n",
        "    Dense(10, activation='softmax')\n",
        "  ])\n",
        "\n",
        "  model.compile(optimizer=Adam(hp.Choice('learning_rate', values=[1e-2, 1e-3])),\n",
        "              loss='sparse_categorical_crossentropy',\n",
        "              metrics=['accuracy'])\n",
        "\n",
        "  return model"
      ]
    },
    {
      "cell_type": "code",
      "execution_count": 44,
      "metadata": {},
      "outputs": [],
      "source": [
        "tuner = keras_tuner.RandomSearch(\n",
        "    hypermodel=build_model_filter,\n",
        "    objective=\"val_accuracy\",\n",
        "    max_trials=5,\n",
        "    executions_per_trial=1,\n",
        "    overwrite=True,\n",
        ")"
      ]
    },
    {
      "cell_type": "code",
      "execution_count": 45,
      "metadata": {},
      "outputs": [
        {
          "name": "stdout",
          "output_type": "stream",
          "text": [
            "Trial 5 Complete [00h 07m 07s]\n",
            "val_accuracy: 0.9139999747276306\n",
            "\n",
            "Best val_accuracy So Far: 0.9139999747276306\n",
            "Total elapsed time: 00h 31m 12s\n"
          ]
        }
      ],
      "source": [
        "tuner.search(train_data, train_labels, epochs=5, validation_data=(test_data, test_labels))"
      ]
    },
    {
      "cell_type": "code",
      "execution_count": 46,
      "metadata": {},
      "outputs": [
        {
          "name": "stdout",
          "output_type": "stream",
          "text": [
            "Model: \"sequential\"\n",
            "_________________________________________________________________\n",
            " Layer (type)                Output Shape              Param #   \n",
            "=================================================================\n",
            " conv2d (Conv2D)             (None, 26, 26, 96)        960       \n",
            "                                                                 \n",
            " conv2d_1 (Conv2D)           (None, 22, 22, 48)        115248    \n",
            "                                                                 \n",
            " flatten (Flatten)           (None, 23232)             0         \n",
            "                                                                 \n",
            " dense (Dense)               (None, 64)                1486912   \n",
            "                                                                 \n",
            " dense_1 (Dense)             (None, 10)                650       \n",
            "                                                                 \n",
            "=================================================================\n",
            "Total params: 1603770 (6.12 MB)\n",
            "Trainable params: 1603770 (6.12 MB)\n",
            "Non-trainable params: 0 (0.00 Byte)\n",
            "_________________________________________________________________\n"
          ]
        }
      ],
      "source": [
        "models = tuner.get_best_models()\n",
        "best_model = models[0]\n",
        "\n",
        "best_model.build(input_shape=(None, 28, 28))\n",
        "best_model.summary()"
      ]
    },
    {
      "cell_type": "code",
      "execution_count": 47,
      "metadata": {},
      "outputs": [
        {
          "name": "stdout",
          "output_type": "stream",
          "text": [
            "313/313 [==============================] - 4s 13ms/step - loss: 0.2917 - accuracy: 0.9140\n",
            "[0.291700154542923, 0.9139999747276306]\n"
          ]
        }
      ],
      "source": [
        "results = best_model.evaluate(test_data, test_labels)\n",
        "print(results)"
      ]
    },
    {
      "cell_type": "markdown",
      "metadata": {},
      "source": [
        "Добавивши два шари Conv2D згорткової нейронної мережі з бібліотеки Keras. Цей шар ефективно працює з двовимірними даними, такими як чорно-білі або кольорові зображення. Мені вдалося досягти accuracy: 0.9140 на валідаційних данних."
      ]
    }
  ],
  "metadata": {
    "colab": {
      "authorship_tag": "ABX9TyPBDrQjBmBcEVhd5v6p0s8G",
      "include_colab_link": true,
      "provenance": []
    },
    "kernelspec": {
      "display_name": "Python 3",
      "name": "python3"
    },
    "language_info": {
      "codemirror_mode": {
        "name": "ipython",
        "version": 3
      },
      "file_extension": ".py",
      "mimetype": "text/x-python",
      "name": "python",
      "nbconvert_exporter": "python",
      "pygments_lexer": "ipython3",
      "version": "3.11.1"
    }
  },
  "nbformat": 4,
  "nbformat_minor": 0
}
