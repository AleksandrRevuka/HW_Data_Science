{
 "cells": [
  {
   "cell_type": "code",
   "execution_count": 14,
   "metadata": {},
   "outputs": [],
   "source": [
    "\n",
    "import numpy as np\n",
    "import pandas as pd\n",
    "import matplotlib.pyplot as plt\n",
    "import tensorflow as tf\n",
    "\n",
    "from sklearn.model_selection import train_test_split\n",
    "from keras import layers\n",
    "from keras.datasets import fashion_mnist, imdb, cifar10, cifar100\n",
    "from keras.metrics import Precision, Recall, F1Score\n",
    "from keras.utils import to_categorical, pad_sequences\n",
    "from keras.models import Sequential, Model, load_model\n",
    "from keras.layers import Dense, Flatten, LSTM, Bidirectional, Dropout, Conv2D, MaxPooling2D, Input, Embedding, SimpleRNN, BatchNormalization\n",
    "from keras.regularizers import l2, l1\n",
    "from keras.optimizers import SGD, Adam, RMSprop, Adagrad, Adadelta, Nadam, Adamax, Ftrl\n",
    "from keras.constraints import max_norm\n",
    "from keras.applications.vgg16 import VGG16\n",
    "from keras.callbacks import EarlyStopping\n",
    "from tensorflow.keras.preprocessing.image import ImageDataGenerator"
   ]
  },
  {
   "cell_type": "code",
   "execution_count": 15,
   "metadata": {},
   "outputs": [],
   "source": [
    "def plot_history(history):\n",
    "    history_dict = history.history\n",
    "    loss_values = history_dict['loss']\n",
    "    val_loss_values = history_dict['val_loss']\n",
    "    val_acc_values = history_dict['val_accuracy']\n",
    "\n",
    "    epochs = range(1, len(history_dict['accuracy']) + 1)\n",
    "\n",
    "    plt.style.use('dark_background')\n",
    "\n",
    "    plt.figure(figsize=(12, 5))\n",
    "\n",
    "    plt.subplot(1, 2, 1)\n",
    "    plt.plot(epochs, loss_values, color='lime', label='Training loss')\n",
    "    plt.plot(epochs, val_loss_values, color='orangered', label='Validation loss')\n",
    "    plt.title('Training and validation loss')\n",
    "    plt.xlabel('Epochs')\n",
    "    plt.ylabel('Loss')\n",
    "    plt.legend()\n",
    "    plt.grid(linestyle='--')\n",
    "\n",
    "    plt.subplot(1, 2, 2)\n",
    "    plt.plot(epochs, history_dict['accuracy'], color='lime', label='Training acc')\n",
    "    plt.plot(epochs, val_acc_values, color='orangered', label='Validation acc')\n",
    "    plt.title('Training and validation accuracy')\n",
    "    plt.xlabel('Epochs')\n",
    "    plt.ylabel('Accuracy')\n",
    "    plt.legend()\n",
    "    plt.grid(linestyle='--')\n",
    "    \n",
    "    plt.tight_layout()\n",
    "    plt.show()"
   ]
  },
  {
   "cell_type": "code",
   "execution_count": 16,
   "metadata": {},
   "outputs": [],
   "source": [
    "def plot_precision_recall(history):\n",
    "    precision_values = [history.history[f'precision_class{i}'][-1] for i in range(10)]\n",
    "    recall_values = [history.history[f'recall_class{i}'][-1] for i in range(10)]\n",
    "\n",
    "    classes = [str(i) for i in range(10)]\n",
    "    width = 0.35\n",
    "    x = range(len(classes))\n",
    "\n",
    "    plt.figure(figsize=(14, 5))\n",
    "\n",
    "    plt.bar(x, precision_values, width, label='Precision')\n",
    "    plt.bar([i + width for i in x], recall_values, width, label='Recall')\n",
    "\n",
    "    plt.xlabel('Class')\n",
    "    plt.ylabel('Score')\n",
    "    plt.title('Precision and Recall for Each Class')\n",
    "    plt.xticks([i + width/2 for i in x], classes)\n",
    "    plt.yticks(np.arange(0, 1.1, 0.1))\n",
    "    plt.legend()\n",
    "    plt.grid(axis='y', linestyle='--')\n",
    "\n",
    "    plt.show()"
   ]
  },
  {
   "cell_type": "code",
   "execution_count": 17,
   "metadata": {},
   "outputs": [],
   "source": [
    "(X_train, y_train), (X_test, y_test) = cifar10.load_data()"
   ]
  },
  {
   "cell_type": "code",
   "execution_count": 18,
   "metadata": {},
   "outputs": [],
   "source": [
    "X_train = X_train.astype('float32')\n",
    "X_test = X_test.astype('float32')\n",
    "\n",
    "X_train, X_test = X_train / 255., X_test / 255.\n",
    "\n",
    "y_train = to_categorical(y_train, num_classes=10)\n",
    "y_test = to_categorical(y_test, num_classes=10)"
   ]
  },
  {
   "cell_type": "code",
   "execution_count": 19,
   "metadata": {},
   "outputs": [],
   "source": [
    "precision_per_class = [Precision(class_id=i, name=f'precision_class{i}') for i in range(10)]\n",
    "recall_per_class = [Recall(class_id=i, name=f'recall_class{i}') for i in range(10)]\n",
    "\n",
    "all_metrics = ['accuracy'] + precision_per_class + recall_per_class"
   ]
  },
  {
   "cell_type": "code",
   "execution_count": 21,
   "metadata": {},
   "outputs": [],
   "source": [
    "datagen = ImageDataGenerator(\n",
    "    rotation_range=15,\n",
    "    zoom_range=0.1,\n",
    "    horizontal_flip=True,\n",
    "    width_shift_range=0.12,\n",
    "    height_shift_range=0.12,\n",
    "    shear_range=10,\n",
    "    channel_shift_range=0.1,\n",
    ")\n",
    "\n",
    "train_generator = datagen.flow(X_train, y_train, batch_size=64)"
   ]
  },
  {
   "cell_type": "code",
   "execution_count": 22,
   "metadata": {},
   "outputs": [],
   "source": [
    "early_stopping = EarlyStopping(monitor='val_loss', patience=45, restore_best_weights=True, start_from_epoch=100, verbose=1)"
   ]
  },
  {
   "cell_type": "code",
   "execution_count": 23,
   "metadata": {},
   "outputs": [],
   "source": [
    "conv_base = VGG16(weights='imagenet', include_top=False, input_shape=(32, 32, 3))\n",
    "conv_base.trainable = False"
   ]
  },
  {
   "cell_type": "code",
   "execution_count": null,
   "metadata": {},
   "outputs": [],
   "source": [
    "class MyVGGModel():\n",
    "    def build(self):\n",
    "        regul_coeff = 0.0001\n",
    "        \n",
    "        inputs = Input(shape=(32, 32, 3))\n",
    "        \n",
    "        x = Conv2D(64, (3, 3), activation=\"relu\", kernel_regularizer=l2(regul_coeff), padding='same')(inputs)\n",
    "        x = BatchNormalization()(x)\n",
    "        x = Conv2D(64, (3, 3), activation=\"relu\", kernel_regularizer=l2(regul_coeff), padding='same')(x)\n",
    "        x = BatchNormalization()(x)\n",
    "        x = MaxPooling2D((2, 2))(x)\n",
    "        x = Dropout(rate=0.1)(x)\n",
    "\n",
    "        x = Conv2D(128, (3, 3), activation=\"relu\", kernel_regularizer=l2(regul_coeff), padding='same')(x)\n",
    "        x = BatchNormalization()(x)\n",
    "        x = Conv2D(128, (3, 3), activation=\"relu\", kernel_regularizer=l2(regul_coeff), padding='same')(x)\n",
    "        x = BatchNormalization()(x)\n",
    "        x = MaxPooling2D((2, 2))(x)\n",
    "        x = Dropout(rate=0.2)(x)\n",
    "\n",
    "        x = Conv2D(256, (3, 3), activation=\"relu\", kernel_regularizer=l2(regul_coeff), padding='same')(x)\n",
    "        x = BatchNormalization()(x)\n",
    "        x = Conv2D(256, (3, 3), activation=\"relu\", kernel_regularizer=l2(regul_coeff), padding='same')(x)\n",
    "        x = BatchNormalization()(x)\n",
    "        x = MaxPooling2D((2, 2))(x)\n",
    "        x = Dropout(rate=0.3)(x)\n",
    "\n",
    "        x = Conv2D(512, (3, 3), activation=\"relu\", kernel_regularizer=l2(regul_coeff), padding='same')(x)\n",
    "        x = BatchNormalization()(x)\n",
    "        x = Conv2D(512, (3, 3), activation=\"relu\", kernel_regularizer=l2(regul_coeff), padding='same')(x)\n",
    "        x = BatchNormalization()(x)\n",
    "        x = MaxPooling2D((2, 2))(x)\n",
    "        x = Dropout(rate=0.4)(x)\n",
    "\n",
    "        x = Flatten()(x)\n",
    "        x = Dense(256, activation=\"relu\")(x)\n",
    "        outputs = Dense(10, activation=\"softmax\")(x)\n",
    "        \n",
    "        model = Model(inputs=inputs, outputs=outputs)\n",
    "\n",
    "        return model"
   ]
  },
  {
   "cell_type": "code",
   "execution_count": 24,
   "metadata": {},
   "outputs": [],
   "source": [
    "my_vgg = MyVGGModel()\n",
    "my_model = my_vgg.build()"
   ]
  },
  {
   "cell_type": "code",
   "execution_count": null,
   "metadata": {},
   "outputs": [],
   "source": [
    "plot_history(history)\n",
    "plot_precision_recall(history)"
   ]
  }
 ],
 "metadata": {
  "kernelspec": {
   "display_name": "Python 3",
   "language": "python",
   "name": "python3"
  },
  "language_info": {
   "codemirror_mode": {
    "name": "ipython",
    "version": 3
   },
   "file_extension": ".py",
   "mimetype": "text/x-python",
   "name": "python",
   "nbconvert_exporter": "python",
   "pygments_lexer": "ipython3",
   "version": "3.11.7"
  }
 },
 "nbformat": 4,
 "nbformat_minor": 2
}
