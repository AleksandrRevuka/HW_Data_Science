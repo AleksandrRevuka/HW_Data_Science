{
 "cells": [
  {
   "cell_type": "code",
   "execution_count": null,
   "metadata": {},
   "outputs": [],
   "source": [
    "(train_data, train_labels), (test_data, test_labels) = fashion_mnist.load_data()\n",
    "\n",
    "train_data, test_data = train_data / 255., test_data / 255.\n",
    "\n",
    "mask_train_remove_6 = train_labels != 6\n",
    "mask_test_remove_6 = test_labels != 6\n",
    "\n",
    "train_data = train_data[mask_train_remove_6]\n",
    "train_labels = train_labels[mask_train_remove_6]\n",
    "\n",
    "test_data = test_data[mask_test_remove_6]\n",
    "test_labels = test_labels[mask_test_remove_6]\n",
    "\n",
    "train_labels = np.where(train_labels == 9, 6, train_labels)\n",
    "test_labels = np.where(test_labels == 9, 6, test_labels)\n",
    "\n",
    "train_labels_one_hot = to_categorical(train_labels, num_classes=clothing_classes)\n",
    "test_labels_one_hot = to_categorical(test_labels, num_classes=clothing_classes)"
   ]
  }
 ],
 "metadata": {
  "language_info": {
   "name": "python"
  }
 },
 "nbformat": 4,
 "nbformat_minor": 2
}
