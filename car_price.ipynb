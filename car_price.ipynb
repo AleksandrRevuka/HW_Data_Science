{
 "cells": [
  {
   "cell_type": "code",
   "execution_count": 941,
   "metadata": {},
   "outputs": [],
   "source": [
    "import numpy as np\n",
    "import pandas as pd\n",
    "import matplotlib.pyplot as plt\n",
    "import seaborn as sns"
   ]
  },
  {
   "cell_type": "code",
   "execution_count": 942,
   "metadata": {},
   "outputs": [
    {
     "data": {
      "text/html": [
       "<div>\n",
       "<style scoped>\n",
       "    .dataframe tbody tr th:only-of-type {\n",
       "        vertical-align: middle;\n",
       "    }\n",
       "\n",
       "    .dataframe tbody tr th {\n",
       "        vertical-align: top;\n",
       "    }\n",
       "\n",
       "    .dataframe thead th {\n",
       "        text-align: right;\n",
       "    }\n",
       "</style>\n",
       "<table border=\"1\" class=\"dataframe\">\n",
       "  <thead>\n",
       "    <tr style=\"text-align: right;\">\n",
       "      <th></th>\n",
       "      <th>Make</th>\n",
       "      <th>Model</th>\n",
       "      <th>Year</th>\n",
       "      <th>Engine Fuel Type</th>\n",
       "      <th>Engine HP</th>\n",
       "      <th>Engine Cylinders</th>\n",
       "      <th>Transmission Type</th>\n",
       "      <th>Driven_Wheels</th>\n",
       "      <th>Number of Doors</th>\n",
       "      <th>Market Category</th>\n",
       "      <th>Vehicle Size</th>\n",
       "      <th>Vehicle Style</th>\n",
       "      <th>highway MPG</th>\n",
       "      <th>city mpg</th>\n",
       "      <th>Popularity</th>\n",
       "      <th>MSRP</th>\n",
       "    </tr>\n",
       "  </thead>\n",
       "  <tbody>\n",
       "    <tr>\n",
       "      <th>9868</th>\n",
       "      <td>Chevrolet</td>\n",
       "      <td>Spark EV</td>\n",
       "      <td>2014</td>\n",
       "      <td>electric</td>\n",
       "      <td>140.0</td>\n",
       "      <td>0.0</td>\n",
       "      <td>DIRECT_DRIVE</td>\n",
       "      <td>front wheel drive</td>\n",
       "      <td>4.0</td>\n",
       "      <td>Hatchback</td>\n",
       "      <td>Compact</td>\n",
       "      <td>4dr Hatchback</td>\n",
       "      <td>109</td>\n",
       "      <td>128</td>\n",
       "      <td>1385</td>\n",
       "      <td>27010</td>\n",
       "    </tr>\n",
       "    <tr>\n",
       "      <th>4333</th>\n",
       "      <td>Ford</td>\n",
       "      <td>Expedition</td>\n",
       "      <td>2017</td>\n",
       "      <td>regular unleaded</td>\n",
       "      <td>365.0</td>\n",
       "      <td>6.0</td>\n",
       "      <td>AUTOMATIC</td>\n",
       "      <td>rear wheel drive</td>\n",
       "      <td>4.0</td>\n",
       "      <td>NaN</td>\n",
       "      <td>Large</td>\n",
       "      <td>4dr SUV</td>\n",
       "      <td>21</td>\n",
       "      <td>15</td>\n",
       "      <td>5657</td>\n",
       "      <td>63307</td>\n",
       "    </tr>\n",
       "    <tr>\n",
       "      <th>1278</th>\n",
       "      <td>Honda</td>\n",
       "      <td>Accord</td>\n",
       "      <td>2017</td>\n",
       "      <td>regular unleaded</td>\n",
       "      <td>185.0</td>\n",
       "      <td>4.0</td>\n",
       "      <td>AUTOMATIC</td>\n",
       "      <td>front wheel drive</td>\n",
       "      <td>4.0</td>\n",
       "      <td>NaN</td>\n",
       "      <td>Midsize</td>\n",
       "      <td>Sedan</td>\n",
       "      <td>36</td>\n",
       "      <td>27</td>\n",
       "      <td>2202</td>\n",
       "      <td>30820</td>\n",
       "    </tr>\n",
       "    <tr>\n",
       "      <th>7645</th>\n",
       "      <td>Honda</td>\n",
       "      <td>Prelude</td>\n",
       "      <td>2001</td>\n",
       "      <td>premium unleaded (required)</td>\n",
       "      <td>200.0</td>\n",
       "      <td>4.0</td>\n",
       "      <td>MANUAL</td>\n",
       "      <td>front wheel drive</td>\n",
       "      <td>2.0</td>\n",
       "      <td>Performance</td>\n",
       "      <td>Compact</td>\n",
       "      <td>Coupe</td>\n",
       "      <td>25</td>\n",
       "      <td>20</td>\n",
       "      <td>2202</td>\n",
       "      <td>23600</td>\n",
       "    </tr>\n",
       "    <tr>\n",
       "      <th>3820</th>\n",
       "      <td>Oldsmobile</td>\n",
       "      <td>Eighty-Eight Royale</td>\n",
       "      <td>1995</td>\n",
       "      <td>regular unleaded</td>\n",
       "      <td>205.0</td>\n",
       "      <td>6.0</td>\n",
       "      <td>AUTOMATIC</td>\n",
       "      <td>front wheel drive</td>\n",
       "      <td>4.0</td>\n",
       "      <td>NaN</td>\n",
       "      <td>Large</td>\n",
       "      <td>Sedan</td>\n",
       "      <td>26</td>\n",
       "      <td>17</td>\n",
       "      <td>26</td>\n",
       "      <td>2000</td>\n",
       "    </tr>\n",
       "  </tbody>\n",
       "</table>\n",
       "</div>"
      ],
      "text/plain": [
       "            Make                Model  Year             Engine Fuel Type  \\\n",
       "9868   Chevrolet             Spark EV  2014                     electric   \n",
       "4333        Ford           Expedition  2017             regular unleaded   \n",
       "1278       Honda               Accord  2017             regular unleaded   \n",
       "7645       Honda              Prelude  2001  premium unleaded (required)   \n",
       "3820  Oldsmobile  Eighty-Eight Royale  1995             regular unleaded   \n",
       "\n",
       "      Engine HP  Engine Cylinders Transmission Type      Driven_Wheels  \\\n",
       "9868      140.0               0.0      DIRECT_DRIVE  front wheel drive   \n",
       "4333      365.0               6.0         AUTOMATIC   rear wheel drive   \n",
       "1278      185.0               4.0         AUTOMATIC  front wheel drive   \n",
       "7645      200.0               4.0            MANUAL  front wheel drive   \n",
       "3820      205.0               6.0         AUTOMATIC  front wheel drive   \n",
       "\n",
       "      Number of Doors Market Category Vehicle Size  Vehicle Style  \\\n",
       "9868              4.0       Hatchback      Compact  4dr Hatchback   \n",
       "4333              4.0             NaN        Large        4dr SUV   \n",
       "1278              4.0             NaN      Midsize          Sedan   \n",
       "7645              2.0     Performance      Compact          Coupe   \n",
       "3820              4.0             NaN        Large          Sedan   \n",
       "\n",
       "      highway MPG  city mpg  Popularity   MSRP  \n",
       "9868          109       128        1385  27010  \n",
       "4333           21        15        5657  63307  \n",
       "1278           36        27        2202  30820  \n",
       "7645           25        20        2202  23600  \n",
       "3820           26        17          26   2000  "
      ]
     },
     "execution_count": 942,
     "metadata": {},
     "output_type": "execute_result"
    }
   ],
   "source": [
    "df = pd.read_csv(\"dataset/data_car.csv\")\n",
    "df.sample(5)"
   ]
  },
  {
   "cell_type": "code",
   "execution_count": 943,
   "metadata": {},
   "outputs": [
    {
     "name": "stdout",
     "output_type": "stream",
     "text": [
      "['rear wheel drive', 'front wheel drive', 'all wheel drive', 'four wheel drive']\n"
     ]
    }
   ],
   "source": [
    "r = list(df[\"Driven_Wheels\"].unique())\n",
    "print(r)"
   ]
  },
  {
   "cell_type": "code",
   "execution_count": 944,
   "metadata": {},
   "outputs": [
    {
     "data": {
      "text/plain": [
       "11914"
      ]
     },
     "execution_count": 944,
     "metadata": {},
     "output_type": "execute_result"
    }
   ],
   "source": [
    "len(df)"
   ]
  },
  {
   "cell_type": "code",
   "execution_count": 945,
   "metadata": {},
   "outputs": [
    {
     "data": {
      "text/html": [
       "<div>\n",
       "<style scoped>\n",
       "    .dataframe tbody tr th:only-of-type {\n",
       "        vertical-align: middle;\n",
       "    }\n",
       "\n",
       "    .dataframe tbody tr th {\n",
       "        vertical-align: top;\n",
       "    }\n",
       "\n",
       "    .dataframe thead th {\n",
       "        text-align: right;\n",
       "    }\n",
       "</style>\n",
       "<table border=\"1\" class=\"dataframe\">\n",
       "  <thead>\n",
       "    <tr style=\"text-align: right;\">\n",
       "      <th></th>\n",
       "      <th>make</th>\n",
       "      <th>model</th>\n",
       "      <th>year</th>\n",
       "      <th>engine_fuel_type</th>\n",
       "      <th>engine_hp</th>\n",
       "      <th>engine_cylinders</th>\n",
       "      <th>transmission_type</th>\n",
       "      <th>driven_wheels</th>\n",
       "      <th>number_of_doors</th>\n",
       "      <th>market_category</th>\n",
       "      <th>vehicle_size</th>\n",
       "      <th>vehicle_style</th>\n",
       "      <th>highway_mpg</th>\n",
       "      <th>city_mpg</th>\n",
       "      <th>popularity</th>\n",
       "      <th>msrp</th>\n",
       "    </tr>\n",
       "  </thead>\n",
       "  <tbody>\n",
       "    <tr>\n",
       "      <th>2408</th>\n",
       "      <td>volkswagen</td>\n",
       "      <td>cc</td>\n",
       "      <td>2016</td>\n",
       "      <td>premium_unleaded_(recommended)</td>\n",
       "      <td>280.0</td>\n",
       "      <td>6.0</td>\n",
       "      <td>automated_manual</td>\n",
       "      <td>all_wheel_drive</td>\n",
       "      <td>4.0</td>\n",
       "      <td>performance</td>\n",
       "      <td>midsize</td>\n",
       "      <td>sedan</td>\n",
       "      <td>25</td>\n",
       "      <td>17</td>\n",
       "      <td>873</td>\n",
       "      <td>44355</td>\n",
       "    </tr>\n",
       "  </tbody>\n",
       "</table>\n",
       "</div>"
      ],
      "text/plain": [
       "            make model  year                engine_fuel_type  engine_hp  \\\n",
       "2408  volkswagen    cc  2016  premium_unleaded_(recommended)      280.0   \n",
       "\n",
       "      engine_cylinders transmission_type    driven_wheels  number_of_doors  \\\n",
       "2408               6.0  automated_manual  all_wheel_drive              4.0   \n",
       "\n",
       "     market_category vehicle_size vehicle_style  highway_mpg  city_mpg  \\\n",
       "2408     performance      midsize         sedan           25        17   \n",
       "\n",
       "      popularity   msrp  \n",
       "2408         873  44355  "
      ]
     },
     "execution_count": 945,
     "metadata": {},
     "output_type": "execute_result"
    }
   ],
   "source": [
    "df.columns = df.columns.str.lower().str.replace(\" \", \"_\")\n",
    "\n",
    "string_col = list(df.dtypes[df.dtypes == \"object\"].index)\n",
    "\n",
    "for col in string_col:\n",
    "    df[col] = df[col].str.lower().str.replace(\" \", \"_\")\n",
    "\n",
    "df.sample()"
   ]
  },
  {
   "cell_type": "code",
   "execution_count": 946,
   "metadata": {},
   "outputs": [
    {
     "name": "stdout",
     "output_type": "stream",
     "text": [
      "<class 'pandas.core.frame.DataFrame'>\n",
      "RangeIndex: 11914 entries, 0 to 11913\n",
      "Data columns (total 16 columns):\n",
      " #   Column             Non-Null Count  Dtype  \n",
      "---  ------             --------------  -----  \n",
      " 0   make               11914 non-null  object \n",
      " 1   model              11914 non-null  object \n",
      " 2   year               11914 non-null  int64  \n",
      " 3   engine_fuel_type   11911 non-null  object \n",
      " 4   engine_hp          11845 non-null  float64\n",
      " 5   engine_cylinders   11884 non-null  float64\n",
      " 6   transmission_type  11914 non-null  object \n",
      " 7   driven_wheels      11914 non-null  object \n",
      " 8   number_of_doors    11908 non-null  float64\n",
      " 9   market_category    8172 non-null   object \n",
      " 10  vehicle_size       11914 non-null  object \n",
      " 11  vehicle_style      11914 non-null  object \n",
      " 12  highway_mpg        11914 non-null  int64  \n",
      " 13  city_mpg           11914 non-null  int64  \n",
      " 14  popularity         11914 non-null  int64  \n",
      " 15  msrp               11914 non-null  int64  \n",
      "dtypes: float64(3), int64(5), object(8)\n",
      "memory usage: 1.5+ MB\n"
     ]
    }
   ],
   "source": [
    "df.info()"
   ]
  },
  {
   "cell_type": "code",
   "execution_count": 947,
   "metadata": {},
   "outputs": [],
   "source": [
    "# float_cols = list(df.dtypes[df.dtypes == \"float\"].index)\n",
    "\n",
    "# df[float_cols] = df[float_cols].fillna(0)\n",
    "\n",
    "# for col in float_cols:\n",
    "#     df[col] = df[col].astype(\"int32\")\n",
    "\n",
    "\n",
    "# df.sample()"
   ]
  },
  {
   "cell_type": "code",
   "execution_count": 948,
   "metadata": {},
   "outputs": [
    {
     "data": {
      "text/plain": [
       "<Axes: xlabel='msrp', ylabel='Count'>"
      ]
     },
     "execution_count": 948,
     "metadata": {},
     "output_type": "execute_result"
    },
    {
     "data": {
      "image/png": "[encoded data removed]",
      "text/plain": [
       "<Figure size 640x480 with 1 Axes>"
      ]
     },
     "metadata": {},
     "output_type": "display_data"
    }
   ],
   "source": [
    "plt.style.use('dark_background')\n",
    "plt.grid(linestyle='--')\n",
    "sns.histplot(df.msrp, color=\"red\")\n"
   ]
  },
  {
   "cell_type": "code",
   "execution_count": 949,
   "metadata": {},
   "outputs": [
    {
     "data": {
      "image/png": "[encoded data removed]",
      "text/plain": [
       "<Figure size 640x480 with 1 Axes>"
      ]
     },
     "metadata": {},
     "output_type": "display_data"
    }
   ],
   "source": [
    "sns.histplot(df.msrp[df.msrp < 100000], color=\"red\")\n",
    "plt.grid(linestyle='--')"
   ]
  },
  {
   "cell_type": "code",
   "execution_count": 950,
   "metadata": {},
   "outputs": [
    {
     "data": {
      "image/png": "[encoded data removed]",
      "text/plain": [
       "<Figure size 640x480 with 1 Axes>"
      ]
     },
     "metadata": {},
     "output_type": "display_data"
    }
   ],
   "source": [
    "log_price = np.log1p(df.msrp)\n",
    "\n",
    "sns.histplot(log_price, color=\"red\")\n",
    "plt.grid(linestyle='--')"
   ]
  },
  {
   "cell_type": "code",
   "execution_count": 951,
   "metadata": {},
   "outputs": [
    {
     "data": {
      "text/plain": [
       "make                    0\n",
       "model                   0\n",
       "year                    0\n",
       "engine_fuel_type        3\n",
       "engine_hp              69\n",
       "engine_cylinders       30\n",
       "transmission_type       0\n",
       "driven_wheels           0\n",
       "number_of_doors         6\n",
       "market_category      3742\n",
       "vehicle_size            0\n",
       "vehicle_style           0\n",
       "highway_mpg             0\n",
       "city_mpg                0\n",
       "popularity              0\n",
       "msrp                    0\n",
       "dtype: int64"
      ]
     },
     "execution_count": 951,
     "metadata": {},
     "output_type": "execute_result"
    }
   ],
   "source": [
    "df.isnull().sum()"
   ]
  },
  {
   "cell_type": "code",
   "execution_count": 952,
   "metadata": {},
   "outputs": [],
   "source": [
    "def dataset_partitioning(df):\n",
    "    n = len(df)\n",
    "\n",
    "    n_val = int(0.2 * n)\n",
    "    n_test = int(0.2 * n)\n",
    "    n_train = n - (n_val + n_test)\n",
    "\n",
    "    print(n_train, n_test, n_val)\n",
    "\n",
    "    idx = np.arange(n)\n",
    "    np.random.shuffle(idx)\n",
    "\n",
    "    df_shuffled = df.iloc[idx]\n",
    "\n",
    "    df_train = df_shuffled[:n_train].copy()\n",
    "    df_test = df_shuffled[n_train: n_train + n_test].copy()\n",
    "    df_val = df_shuffled[n_train + n_test:].copy()\n",
    "\n",
    "    return df_train, df_test, df_val\n",
    "\n",
    "\n",
    "def normalization_target(df_train, df_test, df_val):\n",
    "    y_train = np.log1p(df_train[\"msrp\"])\n",
    "    y_test = np.log1p(df_test[\"msrp\"])\n",
    "    y_val = np.log1p(df_val[\"msrp\"])\n",
    "\n",
    "    del df_train[\"msrp\"]\n",
    "    del df_test[\"msrp\"]\n",
    "    del df_val[\"msrp\"]\n",
    "\n",
    "    return y_train, y_test, y_val\n",
    "\n",
    "def make_matrix(df_train, df_test, df_val):\n",
    "    return df_train.values, df_test.values, df_val.values"
   ]
  },
  {
   "cell_type": "code",
   "execution_count": 953,
   "metadata": {},
   "outputs": [],
   "source": [
    "base = [\"engine_hp\", \"engine_cylinders\", \"highway_mpg\", \"city_mpg\", \"popularity\"]\n",
    "target = [\"msrp\"]\n",
    "\n",
    "def train_linear_regression(X: np.array, y, r=0.0):\n",
    "\n",
    "    ones = np.ones(X.shape[0])\n",
    "    X = np.column_stack([ones, X])\n",
    "\n",
    "    XTX = X.T.dot(X)\n",
    "    reg = r * np.eye(XTX.shape[0])\n",
    "    XTX = XTX + reg\n",
    "    \n",
    "    XTX_inv = np.linalg.inv(XTX)\n",
    "    w = XTX_inv.dot(X.T).dot(y)\n",
    "\n",
    "    return w[0], w[1:]\n",
    "\n",
    "def prepare_cat_features(df: pd.DataFrame, features: list):\n",
    "    # cat_features = [\"transmission_type\", \"driven_wheels\", \"make\", \"vehicle_size\", \"number_of_doors\", \"engine_fuel_type\", \"vehicle_style\", \"model\"]\n",
    "    cat_features = [\"make\",  \"model\"]\n",
    "    # df[\"market_category\"].fillna(0)\n",
    "    new_cols = []\n",
    "    for cat_feature in cat_features:\n",
    "        unique_values = list(df[cat_feature].unique())\n",
    "        for uni_value in unique_values:\n",
    "            feature = f\"{cat_feature}_{uni_value}\"\n",
    "            new_col = (df[cat_feature] == uni_value).astype(int)\n",
    "            new_col.name = feature\n",
    "            new_cols.append(new_col)\n",
    "            features.append(feature)\n",
    "\n",
    "    new_cols_df = pd.concat(new_cols, axis=1)\n",
    "    df = pd.concat([df, new_cols_df], axis=1)\n",
    "    return df, features\n",
    "\n",
    "def prepare_X(df: pd.DataFrame):\n",
    "    df = df.copy()\n",
    "    features = base.copy()\n",
    "\n",
    "    features_filling = [\"number_of_doors\", \"engine_hp\", \"engine_cylinders\", \"engine_fuel_type\"]\n",
    "    df[features_filling] = df[features_filling].fillna(df[features_filling].mode().iloc[0])\n",
    "\n",
    "    df_cat, features = prepare_cat_features(df, features)\n",
    "\n",
    "    df_cat[\"age\"] =  2017 - df.year\n",
    "    features.append(\"age\")\n",
    "    features.append(\"msrp\")\n",
    "\n",
    "    df_cat = df_cat[features]\n",
    "    \n",
    "    return df_cat\n",
    "\n",
    "\n",
    "def rmse(y, y_pred):\n",
    "    error = y_pred - y\n",
    "    mse = (error ** 2).mean()\n",
    "    \n",
    "    return np.sqrt(mse)\n"
   ]
  },
  {
   "cell_type": "code",
   "execution_count": 954,
   "metadata": {},
   "outputs": [
    {
     "name": "stdout",
     "output_type": "stream",
     "text": [
      "7150 2382 2382\n",
      "(7150, 968)\n",
      "(2382, 968)\n",
      "(2382, 968)\n"
     ]
    }
   ],
   "source": [
    "df = prepare_X(df)\n",
    "df_train, df_test, df_val = dataset_partitioning(df)\n",
    "\n",
    "y_train, y_test, y_val = normalization_target(df_train, df_test, df_val)\n",
    "X_train, X_test, X_val = make_matrix(df_train, df_test, df_val)\n",
    "print(df_train.shape)\n",
    "print(df_test.shape)\n",
    "print(df_val.shape)"
   ]
  },
  {
   "cell_type": "code",
   "execution_count": 955,
   "metadata": {},
   "outputs": [],
   "source": [
    "w_0, w = train_linear_regression(X_train, y_train, r=0.001)\n",
    "\n",
    "y_pred = w_0 + X_train.dot(w)"
   ]
  },
  {
   "cell_type": "code",
   "execution_count": 956,
   "metadata": {},
   "outputs": [
    {
     "name": "stdout",
     "output_type": "stream",
     "text": [
      "validation: 0.23\n",
      "test: 0.24\n"
     ]
    }
   ],
   "source": [
    "y_pred_val = w_0 + X_val.dot(w)\n",
    "y_pred_test = w_0 + X_test.dot(w)\n",
    "\n",
    "rmse_val = rmse(y_val, y_pred_val)\n",
    "rmse_test = rmse(y_test, y_pred_test)\n",
    "print(f\"validation: {round(rmse_val, 2)}\")\n",
    "print(f\"test: {round(rmse_test, 2)}\")\n"
   ]
  },
  {
   "cell_type": "code",
   "execution_count": 957,
   "metadata": {},
   "outputs": [
    {
     "data": {
      "text/plain": [
       "<matplotlib.legend.Legend at 0x7d5aae2436d0>"
      ]
     },
     "execution_count": 957,
     "metadata": {},
     "output_type": "execute_result"
    },
    {
     "data": {
      "image/png": "[encoded data removed]",
      "text/plain": [
       "<Figure size 640x480 with 1 Axes>"
      ]
     },
     "metadata": {},
     "output_type": "display_data"
    }
   ],
   "source": [
    "sns.histplot(y_pred, label=\"pred\", color=\"red\")\n",
    "sns.histplot(y_val, label=\"target\", color=\"blue\")\n",
    "plt.legend()"
   ]
  },
  {
   "cell_type": "code",
   "execution_count": 958,
   "metadata": {},
   "outputs": [],
   "source": [
    "ad = {\n",
    "    \"city_mpg\": 18,\n",
    "    \"transmission_type\": \"automatic\", \n",
    "    \"driven_wheels\": \"all_wheel_drive\", \n",
    "    \"make\": \"toyota\", \n",
    "    \"vehicle_size\": \"midsize\", \n",
    "    \"number_of_doors\": 4.0, \n",
    "    \"engine_fuel_type\": \"regular_unleaded\", \n",
    "    \"engine_cylinders\": 6.0, \n",
    "    \"highway_mpg\": 25, \n",
    "    \"popularity\": 2031,\n",
    "    \"vehicle_style\": \"wagon\",\n",
    "    \"year\": 2013,\n",
    "    \"model\": \"venza\",\n",
    "    \"engine_hp\": 268.0,\n",
    "    \"msrp\": 1,\n",
    "}"
   ]
  },
  {
   "cell_type": "code",
   "execution_count": 959,
   "metadata": {},
   "outputs": [
    {
     "name": "stdout",
     "output_type": "stream",
     "text": [
      "predict_price: 34558.48\n"
     ]
    }
   ],
   "source": [
    "df_test_one = pd.DataFrame([ad])\n",
    "df_test_one = prepare_X(df_test_one)\n",
    "\n",
    "columns=list(df.columns)\n",
    "empty_df = pd.DataFrame([[0] * len(df.columns)], columns=columns)\n",
    "\n",
    "selected_columns = df_test_one.columns\n",
    "empty_df[selected_columns] = df_test_one[selected_columns]\n",
    "del empty_df[\"msrp\"]\n",
    "\n",
    "empty_df\n",
    "\n",
    "y_pred_one = w_0 + empty_df.values.dot(w)\n",
    "\n",
    "suggestion = np.expm1(y_pred_one)\n",
    "print(f\"predict_price: {round(suggestion[0], 2)}\")"
   ]
  }
 ],
 "metadata": {
  "kernelspec": {
   "display_name": "env_for_gpu",
   "language": "python",
   "name": "python3"
  },
  "language_info": {
   "codemirror_mode": {
    "name": "ipython",
    "version": 3
   },
   "file_extension": ".py",
   "mimetype": "text/x-python",
   "name": "python",
   "nbconvert_exporter": "python",
   "pygments_lexer": "ipython3",
   "version": "3.11.7"
  }
 },
 "nbformat": 4,
 "nbformat_minor": 2
}
