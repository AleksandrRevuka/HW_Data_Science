{
 "cells": [
  {
   "cell_type": "code",
   "execution_count": 28,
   "metadata": {},
   "outputs": [],
   "source": [
    "import numpy as np\n",
    "import pandas as pd\n",
    "import matplotlib.pyplot as plt\n",
    "import tensorflow as tf\n",
    "import os\n",
    "import cv2\n",
    "\n",
    "from sklearn.model_selection import train_test_split\n",
    "from keras import layers\n",
    "from keras.datasets import fashion_mnist, imdb, cifar10\n",
    "from keras.metrics import Precision, Recall, F1Score\n",
    "from keras.utils import to_categorical, pad_sequences\n",
    "from keras.models import Sequential, Model, load_model\n",
    "from keras.layers import Dense, Flatten, LSTM, Bidirectional, Dropout, Conv2D, MaxPooling2D, Input, Embedding, SimpleRNN, BatchNormalization\n",
    "from keras.regularizers import l2, l1\n",
    "from keras.optimizers import SGD, Adam, RMSprop, Adagrad, Adadelta, Nadam, Adamax, Ftrl\n",
    "from keras.constraints import max_norm\n",
    "from keras.applications.vgg16 import VGG16\n",
    "from keras.callbacks import EarlyStopping\n",
    "from tensorflow.keras.preprocessing.image import ImageDataGenerator, img_to_array, load_img"
   ]
  },
  {
   "cell_type": "code",
   "execution_count": 29,
   "metadata": {},
   "outputs": [
    {
     "name": "stdout",
     "output_type": "stream",
     "text": [
      "/home/alex/Python_projects/HW_Data_Science\n",
      "/home/alex/Python_projects/HW_Data_Science/cat_dog/train\n"
     ]
    }
   ],
   "source": [
    "folder_path_train = \"cat_dog/train\"\n",
    "current_directory = os.getcwd()\n",
    "full_path_train = os.path.normpath(os.path.join(current_directory, folder_path_train))\n",
    "print(current_directory)\n",
    "print(full_path_train)"
   ]
  },
  {
   "cell_type": "code",
   "execution_count": 30,
   "metadata": {},
   "outputs": [
    {
     "name": "stdout",
     "output_type": "stream",
     "text": [
      "/home/alex/Python_projects/HW_Data_Science/cat_dog/train/cat.200.jpg\n"
     ]
    }
   ],
   "source": [
    "datagen = ImageDataGenerator(\n",
    "    rotation_range=30,\n",
    "    zoom_range=0.2,\n",
    "    horizontal_flip=True,\n",
    "    width_shift_range=0.1,\n",
    "    height_shift_range=0.1,\n",
    "    shear_range=2,\n",
    "    channel_shift_range=5,\n",
    "    # fill_mode='constant'\n",
    ")\n",
    "\n",
    "filename = \"cat.200.jpg\"\n",
    "path = os.path.join(full_path_train, filename)\n",
    "print(path)\n",
    "img = load_img(path)\n",
    "\n",
    "x = img_to_array(img)  \n",
    "x = x.reshape((1,) + x.shape) \n",
    "\n",
    "i = 0\n",
    "for batch in datagen.flow(x, batch_size=1,save_to_dir='/home/alex/Python_projects/HW_Data_Science/cat_dog/test', save_prefix='cat', save_format='jpeg'):\n",
    "    i += 1\n",
    "    if i > 20:\n",
    "        break "
   ]
  }
 ],
 "metadata": {
  "kernelspec": {
   "display_name": "env_for_gpu",
   "language": "python",
   "name": "python3"
  },
  "language_info": {
   "codemirror_mode": {
    "name": "ipython",
    "version": 3
   },
   "file_extension": ".py",
   "mimetype": "text/x-python",
   "name": "python",
   "nbconvert_exporter": "python",
   "pygments_lexer": "ipython3",
   "version": "3.11.7"
  }
 },
 "nbformat": 4,
 "nbformat_minor": 2
}
